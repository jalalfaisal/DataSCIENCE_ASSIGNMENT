{
  "cells": [
    {
      "cell_type": "code",
      "execution_count": null,
      "metadata": {
        "id": "0g1iXNEoe7Aw"
      },
      "outputs": [],
      "source": [
        "import numpy as np"
      ]
    },
    {
      "cell_type": "code",
      "execution_count": null,
      "metadata": {
        "colab": {
          "base_uri": "https://localhost:8080/"
        },
        "id": "WmmgDe9SgdPD",
        "outputId": "44b7603a-2950-471a-a2b9-038d61abd207"
      },
      "outputs": [
        {
          "name": "stdout",
          "output_type": "stream",
          "text": [
            "NumPy version: 1.25.2\n",
            "\n",
            "NumPy configuration:\n",
            "openblas64__info:\n",
            "    libraries = ['openblas64_', 'openblas64_']\n",
            "    library_dirs = ['/usr/local/lib']\n",
            "    language = c\n",
            "    define_macros = [('HAVE_CBLAS', None), ('BLAS_SYMBOL_SUFFIX', '64_'), ('HAVE_BLAS_ILP64', None)]\n",
            "    runtime_library_dirs = ['/usr/local/lib']\n",
            "blas_ilp64_opt_info:\n",
            "    libraries = ['openblas64_', 'openblas64_']\n",
            "    library_dirs = ['/usr/local/lib']\n",
            "    language = c\n",
            "    define_macros = [('HAVE_CBLAS', None), ('BLAS_SYMBOL_SUFFIX', '64_'), ('HAVE_BLAS_ILP64', None)]\n",
            "    runtime_library_dirs = ['/usr/local/lib']\n",
            "openblas64__lapack_info:\n",
            "    libraries = ['openblas64_', 'openblas64_']\n",
            "    library_dirs = ['/usr/local/lib']\n",
            "    language = c\n",
            "    define_macros = [('HAVE_CBLAS', None), ('BLAS_SYMBOL_SUFFIX', '64_'), ('HAVE_BLAS_ILP64', None), ('HAVE_LAPACKE', None)]\n",
            "    runtime_library_dirs = ['/usr/local/lib']\n",
            "lapack_ilp64_opt_info:\n",
            "    libraries = ['openblas64_', 'openblas64_']\n",
            "    library_dirs = ['/usr/local/lib']\n",
            "    language = c\n",
            "    define_macros = [('HAVE_CBLAS', None), ('BLAS_SYMBOL_SUFFIX', '64_'), ('HAVE_BLAS_ILP64', None), ('HAVE_LAPACKE', None)]\n",
            "    runtime_library_dirs = ['/usr/local/lib']\n",
            "Supported SIMD extensions in this NumPy install:\n",
            "    baseline = SSE,SSE2,SSE3\n",
            "    found = SSSE3,SSE41,POPCNT,SSE42,AVX,F16C,FMA3,AVX2\n",
            "    not found = AVX512F,AVX512CD,AVX512_KNL,AVX512_KNM,AVX512_SKX,AVX512_CLX,AVX512_CNL,AVX512_ICL\n"
          ]
        }
      ],
      "source": [
        "import numpy as np\n",
        "\n",
        "# Print NumPy version\n",
        "print(\"NumPy version:\", np.__version__)\n",
        "\n",
        "# Print NumPy configuration\n",
        "print(\"\\nNumPy configuration:\")\n",
        "np.show_config()\n"
      ]
    },
    {
      "cell_type": "code",
      "execution_count": null,
      "metadata": {
        "colab": {
          "base_uri": "https://localhost:8080/"
        },
        "id": "Qss1q7Wrg434",
        "outputId": "9605ad11-6d82-4e35-f085-280b0b1b46bd"
      },
      "outputs": [
        {
          "name": "stdout",
          "output_type": "stream",
          "text": [
            "[0. 0. 0. 0. 0. 0. 0. 0. 0. 0.]\n"
          ]
        }
      ],
      "source": [
        "import numpy as np\n",
        "\n",
        "# Create a null vector of size 10\n",
        "null_vector = np.zeros(10)\n",
        "\n",
        "print(null_vector)\n"
      ]
    },
    {
      "cell_type": "code",
      "execution_count": null,
      "metadata": {
        "colab": {
          "base_uri": "https://localhost:8080/"
        },
        "id": "glZ0RiE0hJ92",
        "outputId": "34a54e8b-c48b-4243-b13c-a9443f6ee4aa"
      },
      "outputs": [
        {
          "name": "stdout",
          "output_type": "stream",
          "text": [
            "Memory size of the array (in bytes): 96\n"
          ]
        }
      ],
      "source": [
        "import numpy as np\n",
        "\n",
        "# Create an example array\n",
        "arr = np.zeros((3, 4))\n",
        "\n",
        "# Find the memory size of the array\n",
        "memory_size_bytes = arr.nbytes\n",
        "\n",
        "print(\"Memory size of the array (in bytes):\", memory_size_bytes)\n"
      ]
    },
    {
      "cell_type": "code",
      "execution_count": null,
      "metadata": {
        "colab": {
          "base_uri": "https://localhost:8080/"
        },
        "id": "NvwXeVcphuWk",
        "outputId": "78fc6a15-8e40-40e8-8d2e-9e535c31c9e4"
      },
      "outputs": [
        {
          "name": "stdout",
          "output_type": "stream",
          "text": [
            "Help on ufunc:\n",
            "\n",
            "add = <ufunc 'add'>\n",
            "    add(x1, x2, /, out=None, *, where=True, casting='same_kind', order='K', dtype=None, subok=True[, signature, extobj])\n",
            "    \n",
            "    Add arguments element-wise.\n",
            "    \n",
            "    Parameters\n",
            "    ----------\n",
            "    x1, x2 : array_like\n",
            "        The arrays to be added.\n",
            "        If ``x1.shape != x2.shape``, they must be broadcastable to a common\n",
            "        shape (which becomes the shape of the output).\n",
            "    out : ndarray, None, or tuple of ndarray and None, optional\n",
            "        A location into which the result is stored. If provided, it must have\n",
            "        a shape that the inputs broadcast to. If not provided or None,\n",
            "        a freshly-allocated array is returned. A tuple (possible only as a\n",
            "        keyword argument) must have length equal to the number of outputs.\n",
            "    where : array_like, optional\n",
            "        This condition is broadcast over the input. At locations where the\n",
            "        condition is True, the `out` array will be set to the ufunc result.\n",
            "        Elsewhere, the `out` array will retain its original value.\n",
            "        Note that if an uninitialized `out` array is created via the default\n",
            "        ``out=None``, locations within it where the condition is False will\n",
            "        remain uninitialized.\n",
            "    **kwargs\n",
            "        For other keyword-only arguments, see the\n",
            "        :ref:`ufunc docs <ufuncs.kwargs>`.\n",
            "    \n",
            "    Returns\n",
            "    -------\n",
            "    add : ndarray or scalar\n",
            "        The sum of `x1` and `x2`, element-wise.\n",
            "        This is a scalar if both `x1` and `x2` are scalars.\n",
            "    \n",
            "    Notes\n",
            "    -----\n",
            "    Equivalent to `x1` + `x2` in terms of array broadcasting.\n",
            "    \n",
            "    Examples\n",
            "    --------\n",
            "    >>> np.add(1.0, 4.0)\n",
            "    5.0\n",
            "    >>> x1 = np.arange(9.0).reshape((3, 3))\n",
            "    >>> x2 = np.arange(3.0)\n",
            "    >>> np.add(x1, x2)\n",
            "    array([[  0.,   2.,   4.],\n",
            "           [  3.,   5.,   7.],\n",
            "           [  6.,   8.,  10.]])\n",
            "    \n",
            "    The ``+`` operator can be used as a shorthand for ``np.add`` on ndarrays.\n",
            "    \n",
            "    >>> x1 = np.arange(9.0).reshape((3, 3))\n",
            "    >>> x2 = np.arange(3.0)\n",
            "    >>> x1 + x2\n",
            "    array([[ 0.,  2.,  4.],\n",
            "           [ 3.,  5.,  7.],\n",
            "           [ 6.,  8., 10.]])\n",
            "\n"
          ]
        }
      ],
      "source": [
        "import numpy as np\n",
        "help(np.add)\n"
      ]
    },
    {
      "cell_type": "code",
      "execution_count": null,
      "metadata": {
        "colab": {
          "base_uri": "https://localhost:8080/"
        },
        "id": "g8skrzNYh2FH",
        "outputId": "876f93f3-143a-41ae-e563-b5c46425e34d"
      },
      "outputs": [
        {
          "name": "stdout",
          "output_type": "stream",
          "text": [
            "[0. 0. 0. 0. 1. 0. 0. 0. 0. 0.]\n"
          ]
        }
      ],
      "source": [
        "import numpy as np\n",
        "\n",
        "# Create a null vector of size 10\n",
        "null_vector = np.zeros(10)\n",
        "\n",
        "# Assign the fifth value to 1\n",
        "null_vector[4] = 1\n",
        "\n",
        "print(null_vector)\n"
      ]
    },
    {
      "cell_type": "code",
      "execution_count": null,
      "metadata": {
        "colab": {
          "base_uri": "https://localhost:8080/"
        },
        "id": "KI80Rvl2ibda",
        "outputId": "53d6133a-3a72-400c-c469-99c9b4e63752"
      },
      "outputs": [
        {
          "name": "stdout",
          "output_type": "stream",
          "text": [
            "[10 11 12 13 14 15 16 17 18 19 20 21 22 23 24 25 26 27 28 29 30 31 32 33\n",
            " 34 35 36 37 38 39 40 41 42 43 44 45 46 47 48 49]\n"
          ]
        }
      ],
      "source": [
        "import numpy as np\n",
        "\n",
        "# Create a vector with values ranging from 10 to 49\n",
        "vector = np.arange(10, 50)\n",
        "\n",
        "print(vector)\n"
      ]
    },
    {
      "cell_type": "code",
      "execution_count": null,
      "metadata": {
        "colab": {
          "base_uri": "https://localhost:8080/"
        },
        "id": "mDvxnPFmiwC6",
        "outputId": "7083e0f1-f5f8-4a92-d792-aeb7cb48c89e"
      },
      "outputs": [
        {
          "name": "stdout",
          "output_type": "stream",
          "text": [
            "Original vector: [1 2 3 4 5]\n",
            "Reversed vector: [5 4 3 2 1]\n"
          ]
        }
      ],
      "source": [
        "import numpy as np\n",
        "\n",
        "# Create a sample vector\n",
        "vector = np.array([1, 2, 3, 4, 5])\n",
        "\n",
        "# Reverse the vector\n",
        "reversed_vector = vector[::-1]\n",
        "\n",
        "print(\"Original vector:\", vector)\n",
        "print(\"Reversed vector:\", reversed_vector)\n"
      ]
    },
    {
      "cell_type": "code",
      "execution_count": null,
      "metadata": {
        "colab": {
          "base_uri": "https://localhost:8080/"
        },
        "id": "WAVSOak4jF8V",
        "outputId": "28f98e36-5ee1-4159-c19b-7f7c4ddbcc77"
      },
      "outputs": [
        {
          "name": "stdout",
          "output_type": "stream",
          "text": [
            "[[0 1 2]\n",
            " [3 4 5]\n",
            " [6 7 8]]\n"
          ]
        }
      ],
      "source": [
        "import numpy as np\n",
        "\n",
        "# Create a vector with values ranging from 0 to 8\n",
        "values = np.arange(9)\n",
        "\n",
        "# Reshape the vector into a 3x3 matrix\n",
        "matrix = values.reshape(3, 3)\n",
        "\n",
        "print(matrix)\n"
      ]
    },
    {
      "cell_type": "code",
      "execution_count": null,
      "metadata": {
        "colab": {
          "base_uri": "https://localhost:8080/"
        },
        "id": "e50nhS44jOG3",
        "outputId": "cb3e5b15-9ecb-470f-8d6e-103c89bd81ce"
      },
      "outputs": [
        {
          "name": "stdout",
          "output_type": "stream",
          "text": [
            "Indices of non-zero elements: (array([0, 1, 4]),)\n"
          ]
        }
      ],
      "source": [
        "import numpy as np\n",
        "\n",
        "# Define the array\n",
        "arr = np.array([1, 2, 0, 0, 4, 0])\n",
        "\n",
        "# Find the indices of non-zero elements\n",
        "indices = np.nonzero(arr)\n",
        "\n",
        "print(\"Indices of non-zero elements:\", indices)\n"
      ]
    },
    {
      "cell_type": "code",
      "execution_count": null,
      "metadata": {
        "colab": {
          "base_uri": "https://localhost:8080/"
        },
        "id": "Cg5or5P7jtYy",
        "outputId": "bba8261b-665a-45d2-a407-7cddd1cee5c6"
      },
      "outputs": [
        {
          "name": "stdout",
          "output_type": "stream",
          "text": [
            "[[1. 0. 0.]\n",
            " [0. 1. 0.]\n",
            " [0. 0. 1.]]\n"
          ]
        }
      ],
      "source": [
        "import numpy as np\n",
        "\n",
        "# Create a 3x3 identity matrix\n",
        "identity_matrix = np.eye(3)\n",
        "\n",
        "print(identity_matrix)\n"
      ]
    },
    {
      "cell_type": "markdown",
      "metadata": {
        "id": "442Qf9ZygWgd"
      },
      "source": []
    },
    {
      "cell_type": "code",
      "execution_count": null,
      "metadata": {
        "colab": {
          "base_uri": "https://localhost:8080/"
        },
        "id": "EcsG0MpMkLRW",
        "outputId": "19f03866-3468-47dd-ebc0-d8f9c66acc9c"
      },
      "outputs": [
        {
          "name": "stdout",
          "output_type": "stream",
          "text": [
            "[[[0.01143165 0.91676414 0.82475101]\n",
            "  [0.30725101 0.037203   0.61531755]\n",
            "  [0.07184918 0.26812415 0.63162331]]\n",
            "\n",
            " [[0.64561374 0.45042488 0.01499838]\n",
            "  [0.31263042 0.82158128 0.40729667]\n",
            "  [0.20533869 0.73492499 0.32563194]]\n",
            "\n",
            " [[0.70543993 0.57577267 0.6391188 ]\n",
            "  [0.5801016  0.35236642 0.69726454]\n",
            "  [0.32059548 0.72761645 0.67214817]]]\n"
          ]
        }
      ],
      "source": [
        "import numpy as np\n",
        "\n",
        "# Create a 3x3x3 array with random values\n",
        "random_array = np.random.rand(3, 3, 3)\n",
        "\n",
        "print(random_array)\n"
      ]
    },
    {
      "cell_type": "code",
      "execution_count": null,
      "metadata": {
        "colab": {
          "base_uri": "https://localhost:8080/"
        },
        "id": "RRGlqiOzkm_h",
        "outputId": "35ce1b37-cd77-4f15-aeb1-7633169ddf22"
      },
      "outputs": [
        {
          "name": "stdout",
          "output_type": "stream",
          "text": [
            "Minimum value: 0.0038467113238346284\n",
            "Maximum value: 0.9988704139773572\n"
          ]
        }
      ],
      "source": [
        "import numpy as np\n",
        "\n",
        "# Create a 10x10 array with random values\n",
        "random_array = np.random.rand(10, 10)\n",
        "\n",
        "# Find the minimum and maximum values\n",
        "min_value = random_array.min()\n",
        "max_value = random_array.max()\n",
        "\n",
        "print(\"Minimum value:\", min_value)\n",
        "print(\"Maximum value:\", max_value)\n"
      ]
    },
    {
      "cell_type": "code",
      "execution_count": null,
      "metadata": {
        "colab": {
          "base_uri": "https://localhost:8080/"
        },
        "id": "vzQfEfWZlGKv",
        "outputId": "1423960d-aa7a-4908-b254-0f4c1d5b9a9e"
      },
      "outputs": [
        {
          "name": "stdout",
          "output_type": "stream",
          "text": [
            "Random vector: [0.5865956  0.83741665 0.82821476 0.92597121 0.15478074 0.87699742\n",
            " 0.72236667 0.69813543 0.47861235 0.14539728 0.10387542 0.72164853\n",
            " 0.90617662 0.45897255 0.5148571  0.87552504 0.18173136 0.64844596\n",
            " 0.26496751 0.87725786 0.04694628 0.93374541 0.05513718 0.35772727\n",
            " 0.83429161 0.10850803 0.33657861 0.06070624 0.22848912 0.17985553]\n",
            "Mean value: 0.49833104490852886\n"
          ]
        }
      ],
      "source": [
        "import numpy as np\n",
        "\n",
        "# Create a random vector of size 30\n",
        "random_vector = np.random.rand(30)\n",
        "\n",
        "# Find the mean value\n",
        "mean_value = np.mean(random_vector)\n",
        "\n",
        "print(\"Random vector:\", random_vector)\n",
        "print(\"Mean value:\", mean_value)\n"
      ]
    },
    {
      "cell_type": "code",
      "execution_count": null,
      "metadata": {
        "colab": {
          "base_uri": "https://localhost:8080/"
        },
        "id": "QfmQsxLHldUV",
        "outputId": "a6e08899-44ba-47f9-bd08-8333c166fb5b"
      },
      "outputs": [
        {
          "name": "stdout",
          "output_type": "stream",
          "text": [
            "[[1. 1. 1. 1. 1.]\n",
            " [1. 0. 0. 0. 1.]\n",
            " [1. 0. 0. 0. 1.]\n",
            " [1. 0. 0. 0. 1.]\n",
            " [1. 1. 1. 1. 1.]]\n"
          ]
        }
      ],
      "source": [
        "import numpy as np\n",
        "\n",
        "# Define the dimensions of the 2D array\n",
        "rows = 5\n",
        "cols = 5\n",
        "\n",
        "# Create a 2D array filled with zeros\n",
        "array_2d = np.zeros((rows, cols))\n",
        "\n",
        "# Set the border elements to 1\n",
        "array_2d[0, :] = 1  # Top row\n",
        "array_2d[:, 0] = 1  # Left column\n",
        "array_2d[-1, :] = 1  # Bottom row\n",
        "array_2d[:, -1] = 1  # Right column\n",
        "\n",
        "print(array_2d)\n"
      ]
    },
    {
      "cell_type": "code",
      "execution_count": null,
      "metadata": {
        "colab": {
          "base_uri": "https://localhost:8080/"
        },
        "id": "_11eXIuply3C",
        "outputId": "62cbb709-1d39-4867-8b55-4e6b4176e41a"
      },
      "outputs": [
        {
          "name": "stdout",
          "output_type": "stream",
          "text": [
            "Existing array:\n",
            "[[1 2 3]\n",
            " [4 5 6]\n",
            " [7 8 9]]\n",
            "\n",
            "New array with border:\n",
            "[[0 0 0 0 0]\n",
            " [0 1 2 3 0]\n",
            " [0 4 5 6 0]\n",
            " [0 7 8 9 0]\n",
            " [0 0 0 0 0]]\n"
          ]
        }
      ],
      "source": [
        "import numpy as np\n",
        "\n",
        "# Existing array\n",
        "existing_array = np.array([[1, 2, 3],\n",
        "                           [4, 5, 6],\n",
        "                           [7, 8, 9]])\n",
        "\n",
        "# Determine the shape of the new array\n",
        "rows, cols = existing_array.shape\n",
        "new_rows = rows + 2\n",
        "new_cols = cols + 2\n",
        "\n",
        "# Create a new array filled with zeros\n",
        "new_array = np.zeros((new_rows, new_cols), dtype=existing_array.dtype)\n",
        "\n",
        "# Insert the existing array into the center of the new array\n",
        "new_array[1:-1, 1:-1] = existing_array\n",
        "\n",
        "print(\"Existing array:\")\n",
        "print(existing_array)\n",
        "print(\"\\nNew array with border:\")\n",
        "print(new_array)\n"
      ]
    },
    {
      "cell_type": "code",
      "execution_count": null,
      "metadata": {
        "colab": {
          "base_uri": "https://localhost:8080/"
        },
        "id": "xqoQyldpmCwc",
        "outputId": "6873ea30-b0a3-4112-f0ce-b7e8fd401a0c"
      },
      "outputs": [
        {
          "data": {
            "text/plain": [
              "False"
            ]
          },
          "execution_count": 18,
          "metadata": {},
          "output_type": "execute_result"
        }
      ],
      "source": [
        "0 * np.nan\n",
        "np.nan == np.nan\n",
        "np.inf > np.nan\n",
        "np.nan - np.nan\n",
        "np.nan in set([np.nan])\n",
        "0.3 == 3 * 0.1"
      ]
    },
    {
      "cell_type": "code",
      "execution_count": null,
      "metadata": {
        "colab": {
          "base_uri": "https://localhost:8080/"
        },
        "id": "nW6CUvMimPs4",
        "outputId": "6afd460f-3b10-41f5-e091-691775057894"
      },
      "outputs": [
        {
          "name": "stdout",
          "output_type": "stream",
          "text": [
            "[[0 0 0 0 0]\n",
            " [1 0 0 0 0]\n",
            " [0 2 0 0 0]\n",
            " [0 0 3 0 0]\n",
            " [0 0 0 4 0]]\n"
          ]
        }
      ],
      "source": [
        "import numpy as np\n",
        "\n",
        "# Values to be placed just below the diagonal\n",
        "values_below_diagonal = [1, 2, 3, 4]\n",
        "\n",
        "# Create a diagonal matrix with the given values just below the main diagonal\n",
        "matrix = np.diag(values_below_diagonal, k=-1)\n",
        "\n",
        "print(matrix)\n"
      ]
    },
    {
      "cell_type": "code",
      "execution_count": null,
      "metadata": {
        "colab": {
          "base_uri": "https://localhost:8080/"
        },
        "id": "vFXT8cMSm2W1",
        "outputId": "e8bfc019-b900-46aa-9719-c578ce8b1292"
      },
      "outputs": [
        {
          "name": "stdout",
          "output_type": "stream",
          "text": [
            "[[0 1 0 1 0 1 0 1]\n",
            " [1 0 1 0 1 0 1 0]\n",
            " [0 1 0 1 0 1 0 1]\n",
            " [1 0 1 0 1 0 1 0]\n",
            " [0 1 0 1 0 1 0 1]\n",
            " [1 0 1 0 1 0 1 0]\n",
            " [0 1 0 1 0 1 0 1]\n",
            " [1 0 1 0 1 0 1 0]]\n"
          ]
        }
      ],
      "source": [
        "import numpy as np\n",
        "\n",
        "# Create an 8x8 matrix filled with zeros\n",
        "matrix = np.zeros((8, 8), dtype=int)\n",
        "\n",
        "# Fill the even rows and odd columns with 1\n",
        "matrix[::2, 1::2] = 1\n",
        "\n",
        "# Fill the odd rows and even columns with 1\n",
        "matrix[1::2, ::2] = 1\n",
        "\n",
        "print(matrix)\n"
      ]
    },
    {
      "cell_type": "code",
      "execution_count": null,
      "metadata": {
        "colab": {
          "base_uri": "https://localhost:8080/"
        },
        "id": "lFjT1IVmnF7S",
        "outputId": "5fd7a011-d4a4-41b8-e395-9890fc5a1c25"
      },
      "outputs": [
        {
          "name": "stdout",
          "output_type": "stream",
          "text": [
            "Indices (x, y, z) of the 100th element: (1, 5, 3)\n"
          ]
        }
      ],
      "source": [
        "import numpy as np\n",
        "\n",
        "# Define the shape of the array\n",
        "shape = (6, 7, 8)\n",
        "\n",
        "# Define the total number of elements\n",
        "total_elements = np.prod(shape)\n",
        "\n",
        "# Find the index of the 100th element\n",
        "flat_index = 99  # Since indexing starts from 0\n",
        "indices = np.unravel_index(flat_index, shape)\n",
        "\n",
        "print(\"Indices (x, y, z) of the 100th element:\", indices)\n"
      ]
    },
    {
      "cell_type": "code",
      "execution_count": null,
      "metadata": {
        "colab": {
          "base_uri": "https://localhost:8080/"
        },
        "id": "-VhVeXkxnbWk",
        "outputId": "bb51b330-4261-46ea-aeed-9bc7152ecbdb"
      },
      "outputs": [
        {
          "name": "stdout",
          "output_type": "stream",
          "text": [
            "[[0 1 0 1 0 1 0 1]\n",
            " [1 0 1 0 1 0 1 0]\n",
            " [0 1 0 1 0 1 0 1]\n",
            " [1 0 1 0 1 0 1 0]\n",
            " [0 1 0 1 0 1 0 1]\n",
            " [1 0 1 0 1 0 1 0]\n",
            " [0 1 0 1 0 1 0 1]\n",
            " [1 0 1 0 1 0 1 0]]\n"
          ]
        }
      ],
      "source": [
        "import numpy as np\n",
        "\n",
        "# Define the checkerboard pattern as a 2x2 array\n",
        "checkerboard_pattern = np.array([[0, 1], [1, 0]])\n",
        "\n",
        "# Use tile function to replicate the checkerboard pattern to fill an 8x8 matrix\n",
        "checkerboard_8x8 = np.tile(checkerboard_pattern, (4, 4))\n",
        "\n",
        "print(checkerboard_8x8)\n"
      ]
    },
    {
      "cell_type": "code",
      "execution_count": null,
      "metadata": {
        "colab": {
          "base_uri": "https://localhost:8080/"
        },
        "id": "-eWvQCa4n3Jv",
        "outputId": "63b9c61e-fa2c-4abe-9b72-9f1a372caac6"
      },
      "outputs": [
        {
          "name": "stdout",
          "output_type": "stream",
          "text": [
            "Random matrix:\n",
            "[[0.54753926 0.74290777 0.93326397 0.30956981 0.69463363]\n",
            " [0.45336582 0.82720348 0.64538495 0.1219159  0.47019991]\n",
            " [0.28401547 0.66347992 0.49716201 0.9632875  0.45516869]\n",
            " [0.86796358 0.59724901 0.8766839  0.52966613 0.91058024]\n",
            " [0.37548185 0.10157425 0.39651091 0.10317281 0.38789347]]\n",
            "\n",
            "Normalized matrix:\n",
            "[[0.51753296 0.74425398 0.96515833 0.24137444 0.68823286]\n",
            " [0.40824667 0.84207738 0.63108082 0.02360605 0.42778228]\n",
            " [0.21171917 0.65207964 0.45907123 1.         0.41033887]\n",
            " [0.88937861 0.57522007 0.89949836 0.49679157 0.93883434]\n",
            " [0.31786398 0.         0.34226775 0.0018551  0.33226739]]\n"
          ]
        }
      ],
      "source": [
        "import numpy as np\n",
        "\n",
        "# Create a 5x5 random matrix\n",
        "random_matrix = np.random.rand(5, 5)\n",
        "\n",
        "# Normalize the matrix to have values between 0 and 1\n",
        "normalized_matrix = (random_matrix - np.min(random_matrix)) / (np.max(random_matrix) - np.min(random_matrix))\n",
        "\n",
        "print(\"Random matrix:\")\n",
        "print(random_matrix)\n",
        "print(\"\\nNormalized matrix:\")\n",
        "print(normalized_matrix)\n"
      ]
    },
    {
      "cell_type": "code",
      "execution_count": null,
      "metadata": {
        "colab": {
          "base_uri": "https://localhost:8080/"
        },
        "id": "G5iahEKPoJQq",
        "outputId": "d56768a8-120e-4852-a592-0253023640f8"
      },
      "outputs": [
        {
          "name": "stdout",
          "output_type": "stream",
          "text": [
            "Custom dtype for RGBA colors:\n",
            "[('R', 'u1'), ('G', 'u1'), ('B', 'u1'), ('A', 'u1')]\n",
            "\n",
            "Example color:\n",
            "(255, 128, 0, 255)\n"
          ]
        }
      ],
      "source": [
        "import numpy as np\n",
        "\n",
        "# Define a custom dtype for RGBA colors\n",
        "rgba_dtype = np.dtype([('R', np.uint8),\n",
        "                       ('G', np.uint8),\n",
        "                       ('B', np.uint8),\n",
        "                       ('A', np.uint8)])\n",
        "\n",
        "# Example usage:\n",
        "color = np.array((255, 128, 0, 255), dtype=rgba_dtype)\n",
        "\n",
        "print(\"Custom dtype for RGBA colors:\")\n",
        "print(rgba_dtype)\n",
        "print(\"\\nExample color:\")\n",
        "print(color)\n"
      ]
    },
    {
      "cell_type": "code",
      "execution_count": null,
      "metadata": {
        "id": "NKS20GJmrVA1"
      },
      "outputs": [],
      "source": [
        "import numpy as np\n",
        "\n",
        "# Create a 5x3 matrix\n",
        "matrix1 = np.random.rand(5, 3)\n",
        "\n",
        "# Create a 3x2 matrix\n",
        "matrix2 = np.random.rand(3, 2)\n",
        "\n",
        "# Perform matrix multiplication\n",
        "result = np.dot(matrix1, matrix2)\n",
        "\n"
      ]
    },
    {
      "cell_type": "code",
      "execution_count": null,
      "metadata": {
        "colab": {
          "base_uri": "https://localhost:8080/"
        },
        "id": "Qv-E9AeesKg2",
        "outputId": "accbeb8d-2318-4c04-968a-3f5e7df761be"
      },
      "outputs": [
        {
          "name": "stdout",
          "output_type": "stream",
          "text": [
            "Negated array: [ 1 -4 -6  9 -3 -5 -7  2 -8]\n"
          ]
        }
      ],
      "source": [
        "import numpy as np\n",
        "\n",
        "# Create a 1D array\n",
        "arr = np.array([1, 4, 6, 9, 3, 5, 7, 2, 8])\n",
        "\n",
        "# Find indices of elements between 3 and 8\n",
        "indices = np.where((arr >= 3) & (arr <= 8))\n",
        "\n",
        "# Negate the elements at those indices\n",
        "arr[indices] *= -1\n",
        "\n",
        "print(\"Negated array:\", arr)\n"
      ]
    },
    {
      "cell_type": "code",
      "execution_count": null,
      "metadata": {
        "colab": {
          "base_uri": "https://localhost:8080/"
        },
        "id": "jz2kxRYgse3_",
        "outputId": "b0c562f5-c113-4767-e59d-800351898f4a"
      },
      "outputs": [
        {
          "name": "stdout",
          "output_type": "stream",
          "text": [
            "9\n",
            "10\n"
          ]
        }
      ],
      "source": [
        "# what is the output of the following\n",
        "\n",
        "print(sum(range(5),-1))\n",
        "from numpy import *\n",
        "print(sum(range(5),-1))"
      ]
    },
    {
      "cell_type": "code",
      "execution_count": null,
      "metadata": {
        "colab": {
          "base_uri": "https://localhost:8080/",
          "height": 211
        },
        "id": "W1UyIfhVs4o9",
        "outputId": "d6137d76-7752-4304-d621-4dc808c60ceb"
      },
      "outputs": [
        {
          "ename": "NameError",
          "evalue": "name 'Z' is not defined",
          "output_type": "error",
          "traceback": [
            "\u001b[0;31m---------------------------------------------------------------------------\u001b[0m",
            "\u001b[0;31mNameError\u001b[0m                                 Traceback (most recent call last)",
            "\u001b[0;32m<ipython-input-29-4e3654d03fce>\u001b[0m in \u001b[0;36m<cell line: 1>\u001b[0;34m()\u001b[0m\n\u001b[0;32m----> 1\u001b[0;31m \u001b[0mZ\u001b[0m\u001b[0;34m**\u001b[0m\u001b[0mZ\u001b[0m\u001b[0;34m\u001b[0m\u001b[0;34m\u001b[0m\u001b[0m\n\u001b[0m\u001b[1;32m      2\u001b[0m \u001b[0;36m2\u001b[0m \u001b[0;34m<<\u001b[0m \u001b[0mZ\u001b[0m \u001b[0;34m>>\u001b[0m \u001b[0;36m2\u001b[0m\u001b[0;34m\u001b[0m\u001b[0;34m\u001b[0m\u001b[0m\n\u001b[1;32m      3\u001b[0m \u001b[0mZ\u001b[0m \u001b[0;34m<\u001b[0m\u001b[0;34m-\u001b[0m \u001b[0mZ\u001b[0m\u001b[0;34m\u001b[0m\u001b[0;34m\u001b[0m\u001b[0m\n\u001b[1;32m      4\u001b[0m \u001b[0;36m1j\u001b[0m\u001b[0;34m*\u001b[0m\u001b[0mZ\u001b[0m\u001b[0;34m\u001b[0m\u001b[0;34m\u001b[0m\u001b[0m\n\u001b[1;32m      5\u001b[0m \u001b[0mZ\u001b[0m\u001b[0;34m/\u001b[0m\u001b[0;36m1\u001b[0m\u001b[0;34m/\u001b[0m\u001b[0;36m1\u001b[0m\u001b[0;34m\u001b[0m\u001b[0;34m\u001b[0m\u001b[0m\n",
            "\u001b[0;31mNameError\u001b[0m: name 'Z' is not defined"
          ]
        }
      ],
      "source": [
        "Z**Z\n",
        "2 << Z >> 2\n",
        "Z <- Z\n",
        "1j*Z\n",
        "Z/1/1\n",
        "Z<Z>Z"
      ]
    },
    {
      "cell_type": "code",
      "execution_count": null,
      "metadata": {
        "colab": {
          "base_uri": "https://localhost:8080/"
        },
        "id": "iM3KkuLPs9bZ",
        "outputId": "6272709f-5531-4e98-8838-ee0aa17a879c"
      },
      "outputs": [
        {
          "name": "stdout",
          "output_type": "stream",
          "text": [
            "Original array: [-1.2  2.5  3.7 -4.8]\n",
            "Rounded away from zero array: [-2.  3.  4. -5.]\n"
          ]
        }
      ],
      "source": [
        "import numpy as np\n",
        "\n",
        "def round_away_from_zero(arr):\n",
        "    rounded_abs = np.ceil(np.abs(arr))\n",
        "    return rounded_abs * np.sign(arr)\n",
        "\n",
        "# Example usage:\n",
        "float_array = np.array([-1.2, 2.5, 3.7, -4.8])\n",
        "rounded_array = round_away_from_zero(float_array)\n",
        "\n",
        "print(\"Original array:\", float_array)\n",
        "print(\"Rounded away from zero array:\", rounded_array)\n"
      ]
    },
    {
      "cell_type": "code",
      "execution_count": null,
      "metadata": {
        "colab": {
          "base_uri": "https://localhost:8080/"
        },
        "id": "am1YMKdDtQRU",
        "outputId": "e7c3eda3-01c6-4fa2-a5c0-0c75dbebb9f4"
      },
      "outputs": [
        {
          "name": "stdout",
          "output_type": "stream",
          "text": [
            "Common values: [3 4 5]\n"
          ]
        }
      ],
      "source": [
        "import numpy as np\n",
        "\n",
        "# Define two arrays\n",
        "array1 = np.array([1, 2, 3, 4, 5])\n",
        "array2 = np.array([3, 4, 5, 6, 7])\n",
        "\n",
        "# Find common values using NumPy's intersect1d function\n",
        "common_values = np.intersect1d(array1, array2)\n",
        "\n",
        "print(\"Common values:\", common_values)\n"
      ]
    },
    {
      "cell_type": "code",
      "execution_count": null,
      "metadata": {
        "colab": {
          "base_uri": "https://localhost:8080/"
        },
        "id": "tUTNUqSbtxBo",
        "outputId": "e574a1d8-e23d-4f2e-b971-d04d2d4ad199"
      },
      "outputs": [
        {
          "data": {
            "text/plain": [
              "{'divide': 'ignore', 'over': 'ignore', 'under': 'ignore', 'invalid': 'ignore'}"
            ]
          },
          "execution_count": 32,
          "metadata": {},
          "output_type": "execute_result"
        }
      ],
      "source": [
        "import numpy as np\n",
        "\n",
        "# all NumPy warnings\n",
        "np.seterr(all='ignore')\n",
        "\n",
        "#  code here\n",
        "# ...\n",
        "\n",
        "# Reset NumPy warnings to default\n",
        "np.seterr(all='warn')\n"
      ]
    },
    {
      "cell_type": "code",
      "execution_count": null,
      "metadata": {
        "colab": {
          "base_uri": "https://localhost:8080/"
        },
        "id": "TM4sS3Iit_Lq",
        "outputId": "8bfa307a-53a4-42a6-d6cc-556de4aa4544"
      },
      "outputs": [
        {
          "name": "stderr",
          "output_type": "stream",
          "text": [
            "<ipython-input-33-16339fbc685e>:1: RuntimeWarning: invalid value encountered in sqrt\n",
            "  np.sqrt(-1) == np.emath.sqrt(-1)\n"
          ]
        },
        {
          "data": {
            "text/plain": [
              "False"
            ]
          },
          "execution_count": 33,
          "metadata": {},
          "output_type": "execute_result"
        }
      ],
      "source": [
        "np.sqrt(-1) == np.emath.sqrt(-1)"
      ]
    },
    {
      "cell_type": "code",
      "execution_count": null,
      "metadata": {
        "colab": {
          "base_uri": "https://localhost:8080/"
        },
        "id": "faF6RujluGhh",
        "outputId": "d2c7fa1d-cc79-4bb6-c58b-46cba703377d"
      },
      "outputs": [
        {
          "name": "stdout",
          "output_type": "stream",
          "text": [
            "Yesterday: 2024-02-15\n",
            "Today: 2024-02-16\n",
            "Tomorrow: 2024-02-17\n"
          ]
        }
      ],
      "source": [
        "from datetime import datetime, timedelta\n",
        "\n",
        "# Get today's date\n",
        "today = datetime.now().date()\n",
        "\n",
        "# Get yesterday's date\n",
        "yesterday = today - timedelta(days=1)\n",
        "\n",
        "# Get tomorrow's date\n",
        "tomorrow = today + timedelta(days=1)\n",
        "\n",
        "print(\"Yesterday:\", yesterday)\n",
        "print(\"Today:\", today)\n",
        "print(\"Tomorrow:\", tomorrow)\n"
      ]
    },
    {
      "cell_type": "code",
      "execution_count": null,
      "metadata": {
        "colab": {
          "base_uri": "https://localhost:8080/"
        },
        "id": "cInvNv5KunHm",
        "outputId": "d86cc539-87fd-43af-a694-04ae03ff1720"
      },
      "outputs": [
        {
          "name": "stdout",
          "output_type": "stream",
          "text": [
            "2016-07-01 00:00:00\n",
            "2016-07-02 00:00:00\n",
            "2016-07-03 00:00:00\n",
            "2016-07-04 00:00:00\n",
            "2016-07-05 00:00:00\n",
            "2016-07-06 00:00:00\n",
            "2016-07-07 00:00:00\n",
            "2016-07-08 00:00:00\n",
            "2016-07-09 00:00:00\n",
            "2016-07-10 00:00:00\n",
            "2016-07-11 00:00:00\n",
            "2016-07-12 00:00:00\n",
            "2016-07-13 00:00:00\n",
            "2016-07-14 00:00:00\n",
            "2016-07-15 00:00:00\n",
            "2016-07-16 00:00:00\n",
            "2016-07-17 00:00:00\n",
            "2016-07-18 00:00:00\n",
            "2016-07-19 00:00:00\n",
            "2016-07-20 00:00:00\n",
            "2016-07-21 00:00:00\n",
            "2016-07-22 00:00:00\n",
            "2016-07-23 00:00:00\n",
            "2016-07-24 00:00:00\n",
            "2016-07-25 00:00:00\n",
            "2016-07-26 00:00:00\n",
            "2016-07-27 00:00:00\n",
            "2016-07-28 00:00:00\n",
            "2016-07-29 00:00:00\n",
            "2016-07-30 00:00:00\n",
            "2016-07-31 00:00:00\n"
          ]
        }
      ],
      "source": [
        "from datetime import datetime, timedelta\n",
        "\n",
        "# Define the start date (July 1, 2016)\n",
        "start_date = datetime(2016, 7, 1)\n",
        "\n",
        "# Define the end date (July 31, 2016)\n",
        "end_date = datetime(2016, 7, 31)\n",
        "\n",
        "# Generate all dates for the month of July 2016\n",
        "dates_in_july_2016 = [start_date + timedelta(days=i) for i in range((end_date - start_date).days + 1)]\n",
        "\n",
        "# Print all dates\n",
        "for date in dates_in_july_2016:\n",
        "    print(date)\n"
      ]
    },
    {
      "cell_type": "code",
      "execution_count": null,
      "metadata": {
        "colab": {
          "base_uri": "https://localhost:8080/"
        },
        "id": "9ch-kyFPu4yy",
        "outputId": "21ac2a9c-7198-4e90-9925-59d7ece3b5fc"
      },
      "outputs": [
        {
          "name": "stdout",
          "output_type": "stream",
          "text": [
            "Result: [ -2.5  -7.  -13.5]\n"
          ]
        }
      ],
      "source": [
        "import numpy as np\n",
        "\n",
        "# Example arrays A and B\n",
        "A = np.array([1, 2, 3])\n",
        "B = np.array([4, 5, 6])\n",
        "\n",
        "# Compute the expression ((A+B)*(-A/2)) in place\n",
        "result = (A + B) * (-A / 2)\n",
        "\n",
        "print(\"Result:\", result)\n"
      ]
    },
    {
      "cell_type": "code",
      "execution_count": null,
      "metadata": {
        "colab": {
          "base_uri": "https://localhost:8080/"
        },
        "id": "0NG6Vww-vMCM",
        "outputId": "b43d9e4d-56d4-4e2c-a8e2-a7321f66dd43"
      },
      "outputs": [
        {
          "name": "stdout",
          "output_type": "stream",
          "text": [
            "Random array: [3.30837077 0.09572343 9.85145714 7.94648886 1.33075177]\n",
            "Integer part (Method 1 - floor): [3. 0. 9. 7. 1.]\n",
            "Integer part (Method 2 - trunc): [3. 0. 9. 7. 1.]\n",
            "Integer part (Method 3 - indexing): [3 0 9 7 1]\n",
            "Integer part (Method 4 - built-in): [3, 0, 9, 7, 1]\n"
          ]
        }
      ],
      "source": [
        "import numpy as np\n",
        "\n",
        "# Generate a random array of positive numbers\n",
        "random_array = np.random.rand(5) * 10  # Multiplying by 10 to increase range\n",
        "\n",
        "# Method 1: Using numpy.floor function\n",
        "integer_part_floor = np.floor(random_array)\n",
        "\n",
        "# Method 2: Using numpy.trunc function\n",
        "integer_part_trunc = np.trunc(random_array)\n",
        "\n",
        "# Method 3: Using array indexing and type conversion\n",
        "integer_part_indexing = random_array.astype(int)\n",
        "\n",
        "# Method 4: Using Python's built-in int function\n",
        "integer_part_builtin = [int(x) for x in random_array]\n",
        "\n",
        "# Print results\n",
        "print(\"Random array:\", random_array)\n",
        "print(\"Integer part (Method 1 - floor):\", integer_part_floor)\n",
        "print(\"Integer part (Method 2 - trunc):\", integer_part_trunc)\n",
        "print(\"Integer part (Method 3 - indexing):\", integer_part_indexing)\n",
        "print(\"Integer part (Method 4 - built-in):\", integer_part_builtin)\n"
      ]
    },
    {
      "cell_type": "code",
      "execution_count": null,
      "metadata": {
        "colab": {
          "base_uri": "https://localhost:8080/"
        },
        "id": "GVq604sJvcqQ",
        "outputId": "88cb604e-e0eb-49fa-d18e-47840c24e624"
      },
      "outputs": [
        {
          "name": "stdout",
          "output_type": "stream",
          "text": [
            "[[0 1 2 3 4]\n",
            " [0 1 2 3 4]\n",
            " [0 1 2 3 4]\n",
            " [0 1 2 3 4]\n",
            " [0 1 2 3 4]]\n"
          ]
        }
      ],
      "source": [
        "import numpy as np\n",
        "\n",
        "# Create a 1D array with values ranging from 0 to 4\n",
        "row_values = np.arange(5)\n",
        "\n",
        "# Use broadcasting to create a 5x5 matrix with row values ranging from 0 to 4\n",
        "matrix = np.tile(row_values, (5, 1))\n",
        "\n",
        "print(matrix)\n"
      ]
    },
    {
      "cell_type": "code",
      "execution_count": null,
      "metadata": {
        "colab": {
          "base_uri": "https://localhost:8080/"
        },
        "id": "9xe4Xkr2vpXA",
        "outputId": "5c3fb5ee-58ba-480a-dfaa-aaf53a4612cf"
      },
      "outputs": [
        {
          "name": "stdout",
          "output_type": "stream",
          "text": [
            "[0 1 2 3 4 5 6 7 8 9]\n"
          ]
        }
      ],
      "source": [
        "import numpy as np\n",
        "\n",
        "def integer_generator():\n",
        "    for i in range(10):\n",
        "        yield i\n",
        "\n",
        "# Create an array from the generator function\n",
        "array_from_generator = np.fromiter(integer_generator(), dtype=int)\n",
        "\n",
        "print(array_from_generator)\n"
      ]
    },
    {
      "cell_type": "code",
      "execution_count": null,
      "metadata": {
        "colab": {
          "base_uri": "https://localhost:8080/"
        },
        "id": "fFy2InCBv0zg",
        "outputId": "9f77906b-aba3-4598-ccb7-8a446a5f14a7"
      },
      "outputs": [
        {
          "name": "stdout",
          "output_type": "stream",
          "text": [
            "[0.09090909 0.18181818 0.27272727 0.36363636 0.45454545 0.54545455\n",
            " 0.63636364 0.72727273 0.81818182 0.90909091]\n"
          ]
        }
      ],
      "source": [
        "import numpy as np\n",
        "\n",
        "# Create a vector of size 10 with values ranging from 0 to 1 (both excluded)\n",
        "vector = np.linspace(0, 1, num=12)[1:-1]\n",
        "\n",
        "print(vector)\n"
      ]
    },
    {
      "cell_type": "code",
      "execution_count": null,
      "metadata": {
        "colab": {
          "base_uri": "https://localhost:8080/"
        },
        "id": "rwnlTlh_wQak",
        "outputId": "7bb04c12-8f07-4112-88a7-8f9c1c14dc1d"
      },
      "outputs": [
        {
          "name": "stdout",
          "output_type": "stream",
          "text": [
            "Sorted random vector: [0.00285657 0.20848033 0.23529078 0.24117657 0.31877363 0.47457032\n",
            " 0.65408949 0.76358896 0.81965189 0.86872598]\n"
          ]
        }
      ],
      "source": [
        "import numpy as np\n",
        "\n",
        "# Create a random vector of size 10\n",
        "random_vector = np.random.rand(10)\n",
        "\n",
        "# Sort the random vector\n",
        "random_vector.sort()\n",
        "\n",
        "print(\"Sorted random vector:\", random_vector)\n"
      ]
    },
    {
      "cell_type": "code",
      "execution_count": null,
      "metadata": {
        "colab": {
          "base_uri": "https://localhost:8080/"
        },
        "id": "TtNOu4JiwgOf",
        "outputId": "622c4e44-f40d-4921-8369-cd5a513c2a6d"
      },
      "outputs": [
        {
          "name": "stdout",
          "output_type": "stream",
          "text": [
            "Sum: 15\n"
          ]
        }
      ],
      "source": [
        "# Example small array\n",
        "small_array = [1, 2, 3, 4, 5]\n",
        "\n",
        "# Sum the elements using Python's built-in sum function\n",
        "sum_result = sum(small_array)\n",
        "\n",
        "print(\"Sum:\", sum_result)\n"
      ]
    },
    {
      "cell_type": "code",
      "execution_count": null,
      "metadata": {
        "colab": {
          "base_uri": "https://localhost:8080/"
        },
        "id": "UO7cPPF2w1dp",
        "outputId": "570f1aac-7799-4b90-bcc1-a6ab31fcf7ef"
      },
      "outputs": [
        {
          "name": "stdout",
          "output_type": "stream",
          "text": [
            "Array A: [0.46378003 0.69521096 0.23393123 0.46715361 0.63641179]\n",
            "Array B: [0.5737677  0.90220625 0.21425067 0.331938   0.10753387]\n",
            "Are arrays A and B equal? False\n"
          ]
        }
      ],
      "source": [
        "import numpy as np\n",
        "\n",
        "# Generate two random arrays A and B\n",
        "A = np.random.rand(5)\n",
        "B = np.random.rand(5)\n",
        "\n",
        "# Check if arrays A and B are equal\n",
        "are_equal = np.array_equal(A, B)\n",
        "\n",
        "print(\"Array A:\", A)\n",
        "print(\"Array B:\", B)\n",
        "print(\"Are arrays A and B equal?\", are_equal)\n"
      ]
    },
    {
      "cell_type": "markdown",
      "metadata": {
        "id": "cGUp42boq0uw"
      },
      "source": [
        "Make an array immutable (read-only)"
      ]
    },
    {
      "cell_type": "code",
      "execution_count": null,
      "metadata": {
        "colab": {
          "base_uri": "https://localhost:8080/"
        },
        "id": "kDfRktfuv_Sb",
        "outputId": "362d43cb-b5bb-456b-fa19-a2490d90bed4"
      },
      "outputs": [
        {
          "name": "stdout",
          "output_type": "stream",
          "text": [
            "Array: [1 2 3 4 5]\n",
            "Is array writable? False\n"
          ]
        }
      ],
      "source": [
        "import numpy as np\n",
        "\n",
        "# Create a NumPy array\n",
        "arr = np.array([1, 2, 3, 4, 5])\n",
        "\n",
        "# Make the array immutable (read-only)\n",
        "arr.flags.writeable = False\n",
        "\n",
        "# Try to modify the array (will raise an error)\n",
        "\n",
        "print(\"Array:\", arr)\n",
        "print(\"Is array writable?\", arr.flags.writeable)\n"
      ]
    },
    {
      "cell_type": "markdown",
      "metadata": {
        "id": "BJOOZKObrv-T"
      },
      "source": [
        "Consider a random 10x2 matrix representing cartesian coordinates, convert them to polar coordinates"
      ]
    },
    {
      "cell_type": "code",
      "execution_count": null,
      "metadata": {
        "colab": {
          "base_uri": "https://localhost:8080/"
        },
        "id": "-2IWdLz4mRtm",
        "outputId": "0b5dd40d-b225-4d71-f2b6-271f77a4419e"
      },
      "outputs": [
        {
          "name": "stdout",
          "output_type": "stream",
          "text": [
            "Cartesian coordinates:\n",
            "[[0.55929418 0.69400065]\n",
            " [0.7649644  0.32477601]\n",
            " [0.65871487 0.62474845]\n",
            " [0.67929093 0.48052661]\n",
            " [0.50394265 0.00421939]\n",
            " [0.61685344 0.55257608]\n",
            " [0.33894977 0.7829547 ]\n",
            " [0.0431408  0.32819169]\n",
            " [0.88632226 0.73378401]\n",
            " [0.81358504 0.94529965]]\n",
            "\n",
            "Polar coordinates:\n",
            "[[ 0.89131749 51.13470637]\n",
            " [ 0.83105354 23.00430816]\n",
            " [ 0.90786337 43.48404042]\n",
            " [ 0.83207091 35.27537492]\n",
            " [ 0.50396031  0.47971254]\n",
            " [ 0.8281597  41.85391914]\n",
            " [ 0.85317349 66.59167845]\n",
            " [ 0.33101497 82.51140375]\n",
            " [ 1.15065465 39.62127327]\n",
            " [ 1.24720168 49.2826183 ]]\n"
          ]
        }
      ],
      "source": [
        "import numpy as np\n",
        "\n",
        "# Generate a random 10x2 matrix representing Cartesian coordinates\n",
        "cartesian_coordinates = np.random.rand(10, 2)\n",
        "\n",
        "# Extract x and y coordinates\n",
        "x = cartesian_coordinates[:, 0]\n",
        "y = cartesian_coordinates[:, 1]\n",
        "\n",
        "# Calculate radius (distance from origin)\n",
        "radius = np.linalg.norm(cartesian_coordinates, axis=1)\n",
        "\n",
        "# Calculate angle (in radians)\n",
        "angle = np.arctan2(y, x)\n",
        "\n",
        "# Convert angle to degrees if needed\n",
        "angle_degrees = np.degrees(angle)\n",
        "\n",
        "# Create a matrix of polar coordinates\n",
        "polar_coordinates = np.column_stack((radius, angle_degrees))\n",
        "\n",
        "print(\"Cartesian coordinates:\")\n",
        "print(cartesian_coordinates)\n",
        "print(\"\\nPolar coordinates:\")\n",
        "print(polar_coordinates)\n"
      ]
    },
    {
      "cell_type": "markdown",
      "metadata": {
        "id": "7LAsWDzNsBAx"
      },
      "source": [
        " Create random vector of size 10 and replace the maximum value by 0"
      ]
    },
    {
      "cell_type": "code",
      "execution_count": null,
      "metadata": {
        "colab": {
          "base_uri": "https://localhost:8080/"
        },
        "id": "xjCDrbBTsEmm",
        "outputId": "92efa50c-8efb-43af-a49e-d0633506dd27"
      },
      "outputs": [
        {
          "name": "stdout",
          "output_type": "stream",
          "text": [
            "Random vector with maximum value replaced by 0:\n",
            "[0.02833592 0.50514572 0.19087793 0.1701204  0.68622054 0.15273284\n",
            " 0.3220537  0.32141021 0.6605517  0.        ]\n"
          ]
        }
      ],
      "source": [
        "import numpy as np\n",
        "\n",
        "# Create a random vector of size 10\n",
        "random_vector = np.random.rand(10)\n",
        "\n",
        "# Find the index of the maximum value\n",
        "max_index = np.argmax(random_vector)\n",
        "\n",
        "# Replace the maximum value by 0\n",
        "random_vector[max_index] = 0\n",
        "\n",
        "print(\"Random vector with maximum value replaced by 0:\")\n",
        "print(random_vector)\n"
      ]
    },
    {
      "cell_type": "markdown",
      "metadata": {
        "id": "4LldkwfLsa04"
      },
      "source": []
    },
    {
      "cell_type": "markdown",
      "metadata": {
        "id": "yMOcBmHBsaU4"
      },
      "source": [
        "46. Create a structured array with x and y coordinates covering the [0,1]x[0,1] area"
      ]
    },
    {
      "cell_type": "code",
      "execution_count": null,
      "metadata": {
        "colab": {
          "base_uri": "https://localhost:8080/"
        },
        "id": "NMI42lAusdIz",
        "outputId": "bc94a3ff-d585-4041-efb4-1d3ae3a3bb96"
      },
      "outputs": [
        {
          "name": "stdout",
          "output_type": "stream",
          "text": [
            "Structured array with x and y coordinates:\n",
            "[[(0.  , 0.  ) (0.25, 0.  ) (0.5 , 0.  ) (0.75, 0.  ) (1.  , 0.  )]\n",
            " [(0.  , 0.25) (0.25, 0.25) (0.5 , 0.25) (0.75, 0.25) (1.  , 0.25)]\n",
            " [(0.  , 0.5 ) (0.25, 0.5 ) (0.5 , 0.5 ) (0.75, 0.5 ) (1.  , 0.5 )]\n",
            " [(0.  , 0.75) (0.25, 0.75) (0.5 , 0.75) (0.75, 0.75) (1.  , 0.75)]\n",
            " [(0.  , 1.  ) (0.25, 1.  ) (0.5 , 1.  ) (0.75, 1.  ) (1.  , 1.  )]]\n"
          ]
        }
      ],
      "source": [
        "import numpy as np\n",
        "\n",
        "# Define the grid size\n",
        "grid_size = 5  # for example, you can change this value to adjust the resolution\n",
        "\n",
        "# Generate x and y coordinates covering the [0,1]x[0,1] area\n",
        "x_coordinates = np.linspace(0, 1, grid_size)\n",
        "y_coordinates = np.linspace(0, 1, grid_size)\n",
        "\n",
        "# Create a meshgrid from x and y coordinates\n",
        "X, Y = np.meshgrid(x_coordinates, y_coordinates)\n",
        "\n",
        "# Create a structured array with x and y coordinates\n",
        "structured_array = np.empty((grid_size, grid_size), dtype=[('x', float), ('y', float)])\n",
        "structured_array['x'] = X\n",
        "structured_array['y'] = Y\n",
        "\n",
        "print(\"Structured array with x and y coordinates:\")\n",
        "print(structured_array)\n"
      ]
    },
    {
      "cell_type": "markdown",
      "metadata": {
        "id": "dqSRqGzEtR7U"
      },
      "source": [
        "(47)Given two arrays, X and Y, construct the Cauchy matrix C (Cij =1/(xi - yj))"
      ]
    },
    {
      "cell_type": "code",
      "execution_count": null,
      "metadata": {
        "colab": {
          "base_uri": "https://localhost:8080/"
        },
        "id": "-6nTIX5WtY8K",
        "outputId": "d842a04f-0a66-45e8-de15-e0985aa5ec7a"
      },
      "outputs": [
        {
          "name": "stdout",
          "output_type": "stream",
          "text": [
            "Cauchy matrix C:\n",
            "[[-0.33333333 -0.25       -0.2       ]\n",
            " [-0.5        -0.33333333 -0.25      ]\n",
            " [-1.         -0.5        -0.33333333]]\n"
          ]
        }
      ],
      "source": [
        "import numpy as np\n",
        "\n",
        "# Example arrays X and Y\n",
        "X = np.array([1, 2, 3])\n",
        "Y = np.array([4, 5, 6])\n",
        "\n",
        "# Compute the Cauchy matrix C using broadcasting\n",
        "C = 1 / (X[:, np.newaxis] - Y)\n",
        "\n",
        "print(\"Cauchy matrix C:\")\n",
        "print(C)\n"
      ]
    },
    {
      "cell_type": "markdown",
      "metadata": {
        "id": "ukiMf4Jkttyi"
      },
      "source": [
        "48. Print the minimum and maximum representable value for each numpy scalar type"
      ]
    },
    {
      "cell_type": "code",
      "execution_count": null,
      "metadata": {
        "colab": {
          "base_uri": "https://localhost:8080/"
        },
        "id": "6kwepvV3vJCZ",
        "outputId": "b005c1eb-f16c-44d2-9710-a7b487a001b3"
      },
      "outputs": [
        {
          "name": "stdout",
          "output_type": "stream",
          "text": [
            "Integer types:\n",
            "int8: Min = -128, Max = 127\n",
            "int16: Min = -32768, Max = 32767\n",
            "int32: Min = -2147483648, Max = 2147483647\n",
            "int64: Min = -9223372036854775808, Max = 9223372036854775807\n",
            "\n",
            "Unsigned integer types:\n",
            "uint8: Min = 0, Max = 255\n",
            "uint16: Min = 0, Max = 65535\n",
            "uint32: Min = 0, Max = 4294967295\n",
            "uint64: Min = 0, Max = 18446744073709551615\n",
            "\n",
            "Floating-point types:\n",
            "float32: Min = -3.4028234663852886e+38, Max = 3.4028234663852886e+38\n",
            "float64: Min = -1.7976931348623157e+308, Max = 1.7976931348623157e+308\n"
          ]
        }
      ],
      "source": [
        "import numpy as np\n",
        "\n",
        "# Integer types\n",
        "print(\"Integer types:\")\n",
        "for dtype in [np.int8, np.int16, np.int32, np.int64]:\n",
        "    info = np.iinfo(dtype)\n",
        "    print(f\"{dtype.__name__}: Min = {info.min}, Max = {info.max}\")\n",
        "\n",
        "# Unsigned integer types\n",
        "print(\"\\nUnsigned integer types:\")\n",
        "for dtype in [np.uint8, np.uint16, np.uint32, np.uint64]:\n",
        "    info = np.iinfo(dtype)\n",
        "    print(f\"{dtype.__name__}: Min = {info.min}, Max = {info.max}\")\n",
        "\n",
        "# Floating-point types\n",
        "print(\"\\nFloating-point types:\")\n",
        "for dtype in [np.float32, np.float64]:\n",
        "    info = np.finfo(dtype)\n",
        "    print(f\"{dtype.__name__}: Min = {info.min}, Max = {info.max}\")\n"
      ]
    },
    {
      "cell_type": "markdown",
      "metadata": {
        "id": "LaQQhrpbuh98"
      },
      "source": [
        "49. How to print all the values of an array?"
      ]
    },
    {
      "cell_type": "code",
      "execution_count": null,
      "metadata": {
        "colab": {
          "base_uri": "https://localhost:8080/"
        },
        "id": "SzFCC8U8vaDz",
        "outputId": "7e5bd780-7968-4d3e-c4b3-8a7361968147"
      },
      "outputs": [
        {
          "name": "stdout",
          "output_type": "stream",
          "text": [
            "All values of the array:\n",
            "[[1 2 3]\n",
            " [4 5 6]\n",
            " [7 8 9]]\n"
          ]
        }
      ],
      "source": [
        "import numpy as np\n",
        "\n",
        "# Example array\n",
        "arr = np.array([[1, 2, 3],\n",
        "                [4, 5, 6],\n",
        "                [7, 8, 9]])\n",
        "\n",
        "# Print all values of the array\n",
        "print(\"All values of the array:\")\n",
        "print(arr)\n"
      ]
    },
    {
      "cell_type": "markdown",
      "metadata": {
        "id": "YQ4zfZuuvtwv"
      },
      "source": [
        "50 .  How to find the closest value (to a given scalar) in a vector?"
      ]
    },
    {
      "cell_type": "code",
      "execution_count": null,
      "metadata": {
        "colab": {
          "base_uri": "https://localhost:8080/"
        },
        "id": "OMooxZGfv0C_",
        "outputId": "679aa347-c560-406f-c392-7260f6447d79"
      },
      "outputs": [
        {
          "name": "stdout",
          "output_type": "stream",
          "text": [
            "Vector: [1 3 5 7 9]\n",
            "Scalar: 6\n",
            "Closest value: 5\n"
          ]
        }
      ],
      "source": [
        "import numpy as np\n",
        "\n",
        "# Example vector\n",
        "vector = np.array([1, 3, 5, 7, 9])\n",
        "\n",
        "# Given scalar value\n",
        "scalar = 6\n",
        "\n",
        "# the index of the closest value to the scalar\n",
        "closest_index = np.argmin(np.abs(vector - scalar))\n",
        "\n",
        "# the closest value\n",
        "closest_value = vector[closest_index]\n",
        "\n",
        "print(\"Vector:\", vector)\n",
        "print(\"Scalar:\", scalar)\n",
        "print(\"Closest value:\", closest_value)\n"
      ]
    },
    {
      "cell_type": "markdown",
      "metadata": {
        "id": "SD9vXDJFxX9F"
      },
      "source": [
        "51. Create a structured array representing a position (x,y) and a color (r,g,b)"
      ]
    },
    {
      "cell_type": "code",
      "execution_count": null,
      "metadata": {
        "colab": {
          "base_uri": "https://localhost:8080/"
        },
        "id": "FwFkSRfLxe7Q",
        "outputId": "a7f41576-55d3-4e11-d563-7ae21e2e1007"
      },
      "outputs": [
        {
          "name": "stdout",
          "output_type": "stream",
          "text": [
            "Structured array representing position and color:\n",
            "[((1., 2.), (255, 0, 0))]\n"
          ]
        }
      ],
      "source": [
        "import numpy as np\n",
        "\n",
        "# Defination 0f the structured array dtype\n",
        "dtype = [('position', [('x', float), ('y', float)]),\n",
        "         ('color', [('r', int), ('g', int), ('b', int)])]\n",
        "\n",
        "# empty structured array\n",
        "structured_array = np.empty(1, dtype=dtype)\n",
        "\n",
        "# some example data\n",
        "structured_array['position'] = [(1.0, 2.0)]  # Example position (x, y)\n",
        "structured_array['color'] = [(255, 0, 0)]    # Example color (r, g, b)\n",
        "\n",
        "print(\"Structured array representing position and color:\")\n",
        "print(structured_array)\n"
      ]
    },
    {
      "cell_type": "markdown",
      "metadata": {
        "id": "R322TjBax2Ey"
      },
      "source": [
        "52. Consider a random vector with shape (100,2) representing coordinates, find point by point distances"
      ]
    },
    {
      "cell_type": "code",
      "execution_count": null,
      "metadata": {
        "colab": {
          "base_uri": "https://localhost:8080/"
        },
        "id": "rWtPTPlgx-AJ",
        "outputId": "e77fdafe-b0de-4f23-aad3-c04b27137c3f"
      },
      "outputs": [
        {
          "name": "stdout",
          "output_type": "stream",
          "text": [
            "Distances between points:\n",
            "[[0.         0.17304394 0.94001961 ... 0.50717082 0.60547729 0.54674276]\n",
            " [0.17304394 0.         0.78511368 ... 0.35971185 0.54688367 0.45821127]\n",
            " [0.94001961 0.78511368 0.         ... 0.43350568 0.59712141 0.51685463]\n",
            " ...\n",
            " [0.50717082 0.35971185 0.43350568 ... 0.         0.35888679 0.23201164]\n",
            " [0.60547729 0.54688367 0.59712141 ... 0.35888679 0.         0.12687625]\n",
            " [0.54674276 0.45821127 0.51685463 ... 0.23201164 0.12687625 0.        ]]\n"
          ]
        }
      ],
      "source": [
        "import numpy as np\n",
        "\n",
        "# random vector with shape (100, 2) representing coordinates\n",
        "coordinates = np.random.rand(100, 2)\n",
        "\n",
        "# Calculation of point-by-point distances using broadcasting\n",
        "# This calculates the Euclidean distance between each pair of points\n",
        "distances = np.sqrt(np.sum((coordinates[:, np.newaxis] - coordinates) ** 2, axis=-1))\n",
        "\n",
        "print(\"Distances between points:\")\n",
        "print(distances)\n"
      ]
    },
    {
      "cell_type": "markdown",
      "metadata": {
        "id": "6Dz63TN2yjS8"
      },
      "source": [
        "53. How to convert a float (32 bits) array into an integer (32 bits) in place?\n"
      ]
    },
    {
      "cell_type": "code",
      "execution_count": null,
      "metadata": {
        "colab": {
          "base_uri": "https://localhost:8080/"
        },
        "id": "qVjcS9Ygy5xg",
        "outputId": "8f119bc1-c962-4719-e992-4d672c6d7541"
      },
      "outputs": [
        {
          "name": "stdout",
          "output_type": "stream",
          "text": [
            "Float array (32 bits): [1 2 3 4]\n"
          ]
        }
      ],
      "source": [
        "import numpy as np\n",
        "\n",
        "# a float array (32 bits)\n",
        "float_array = np.array([1.1, 2.2, 3.3, 4.4], dtype=np.float32)\n",
        "\n",
        "# Convert the float array into an integer array in place\n",
        "float_array = float_array.astype(np.int32)\n",
        "\n",
        "print(\"Float array (32 bits):\", float_array)\n"
      ]
    },
    {
      "cell_type": "markdown",
      "metadata": {
        "id": "c82zIK9bzLGz"
      },
      "source": [
        "54.How to read the following file?\n",
        "1, 2, 3, 4, 5\n",
        "6,  ,  , 7, 8\n",
        " ,  , 9,10,11"
      ]
    },
    {
      "cell_type": "code",
      "execution_count": null,
      "metadata": {
        "colab": {
          "base_uri": "https://localhost:8080/",
          "height": 211
        },
        "id": "443Qdeubzf9a",
        "outputId": "5be9f0c4-0757-4588-c299-4bd57db0487f"
      },
      "outputs": [
        {
          "ename": "FileNotFoundError",
          "evalue": "[Errno 2] No such file or directory: 'file.txt'",
          "output_type": "error",
          "traceback": [
            "\u001b[0;31m---------------------------------------------------------------------------\u001b[0m",
            "\u001b[0;31mFileNotFoundError\u001b[0m                         Traceback (most recent call last)",
            "\u001b[0;32m<ipython-input-13-0a446b43128b>\u001b[0m in \u001b[0;36m<cell line: 4>\u001b[0;34m()\u001b[0m\n\u001b[1;32m      2\u001b[0m \u001b[0;34m\u001b[0m\u001b[0m\n\u001b[1;32m      3\u001b[0m \u001b[0;31m# Open the file in read mode\u001b[0m\u001b[0;34m\u001b[0m\u001b[0;34m\u001b[0m\u001b[0m\n\u001b[0;32m----> 4\u001b[0;31m \u001b[0;32mwith\u001b[0m \u001b[0mopen\u001b[0m\u001b[0;34m(\u001b[0m\u001b[0;34m'file.txt'\u001b[0m\u001b[0;34m,\u001b[0m \u001b[0;34m'r'\u001b[0m\u001b[0;34m)\u001b[0m \u001b[0;32mas\u001b[0m \u001b[0mfile\u001b[0m\u001b[0;34m:\u001b[0m\u001b[0;34m\u001b[0m\u001b[0;34m\u001b[0m\u001b[0m\n\u001b[0m\u001b[1;32m      5\u001b[0m     \u001b[0;31m# Create a CSV reader\u001b[0m\u001b[0;34m\u001b[0m\u001b[0;34m\u001b[0m\u001b[0m\n\u001b[1;32m      6\u001b[0m     \u001b[0mreader\u001b[0m \u001b[0;34m=\u001b[0m \u001b[0mcsv\u001b[0m\u001b[0;34m.\u001b[0m\u001b[0mreader\u001b[0m\u001b[0;34m(\u001b[0m\u001b[0mfile\u001b[0m\u001b[0;34m,\u001b[0m \u001b[0mdelimiter\u001b[0m\u001b[0;34m=\u001b[0m\u001b[0;34m','\u001b[0m\u001b[0;34m)\u001b[0m\u001b[0;34m\u001b[0m\u001b[0;34m\u001b[0m\u001b[0m\n",
            "\u001b[0;31mFileNotFoundError\u001b[0m: [Errno 2] No such file or directory: 'file.txt'"
          ]
        }
      ],
      "source": [
        "import csv\n",
        "\n",
        "# Open the file in read mode\n",
        "with open('file.txt', 'r') as file:\n",
        "    # Create a CSV reader\n",
        "    reader = csv.reader(file, delimiter=',')\n",
        "\n",
        "    # Read the file line by line\n",
        "    for row in reader:\n",
        "        # Convert  element in the row to integers\n",
        "        row = [int(element.strip()) if element.strip() else None for element in row]\n",
        "\n",
        "        # Print the row\n",
        "        print(row)\n"
      ]
    },
    {
      "cell_type": "markdown",
      "metadata": {
        "id": "rmazF9ZBz_bQ"
      },
      "source": [
        "55. What is the equivalent of enumerate for numpy arrays?"
      ]
    },
    {
      "cell_type": "code",
      "execution_count": null,
      "metadata": {
        "colab": {
          "base_uri": "https://localhost:8080/"
        },
        "id": "Ed3Vs21U0I1s",
        "outputId": "9d559b95-4d2f-4cfb-b3f1-d7976327ce47"
      },
      "outputs": [
        {
          "name": "stdout",
          "output_type": "stream",
          "text": [
            "Index: (0, 0) Value: 1\n",
            "Index: (0, 1) Value: 2\n",
            "Index: (0, 2) Value: 3\n",
            "Index: (1, 0) Value: 4\n",
            "Index: (1, 1) Value: 5\n",
            "Index: (1, 2) Value: 6\n",
            "Index: (2, 0) Value: 7\n",
            "Index: (2, 1) Value: 8\n",
            "Index: (2, 2) Value: 9\n"
          ]
        }
      ],
      "source": [
        "import numpy as np\n",
        "\n",
        "# Create a NumPy array\n",
        "arr = np.array([[1, 2, 3],\n",
        "                [4, 5, 6],\n",
        "                [7, 8, 9]])\n",
        "\n",
        "# Iterate over the array using np.ndenumerate\n",
        "for index, value in np.ndenumerate(arr):\n",
        "    print(\"Index:\", index, \"Value:\", value)\n"
      ]
    },
    {
      "cell_type": "markdown",
      "metadata": {
        "id": "y1IH5JTt1OQq"
      },
      "source": [
        "56. Generate a generic 2D Gaussian-like array"
      ]
    },
    {
      "cell_type": "code",
      "execution_count": null,
      "metadata": {
        "colab": {
          "base_uri": "https://localhost:8080/",
          "height": 472
        },
        "id": "XiHo6nFG1Ssn",
        "outputId": "4e5b6cf2-4736-4bb5-f318-5903504046c2"
      },
      "outputs": [
        {
          "data": {
            "image/png": "[encoded data removed]",
            "text/plain": [
              "<Figure size 640x480 with 2 Axes>"
            ]
          },
          "metadata": {},
          "output_type": "display_data"
        }
      ],
      "source": [
        "import numpy as np\n",
        "import matplotlib.pyplot as plt\n",
        "\n",
        "def gaussian_2d(x, y, mu_x, mu_y, sigma_x, sigma_y):\n",
        "    return np.exp(-((x - mu_x)**2 / (2 * sigma_x**2) + (y - mu_y)**2 / (2 * sigma_y**2)))\n",
        "\n",
        "#  grid size\n",
        "size = 100\n",
        "\n",
        "#  grid of coordinates\n",
        "x = np.linspace(-1, 1, size)\n",
        "y = np.linspace(-1, 1, size)\n",
        "X, Y = np.meshgrid(x, y)\n",
        "\n",
        "# Define parameters of the Gaussian function\n",
        "mu_x = 0\n",
        "mu_y = 0\n",
        "sigma_x = 0.5\n",
        "sigma_y = 0.5\n",
        "\n",
        "#  Gaussian-like array\n",
        "gaussian_array = gaussian_2d(X, Y, mu_x, mu_y, sigma_x, sigma_y)\n",
        "\n",
        "# Plotting the Gaussian-like array\n",
        "plt.imshow(gaussian_array, extent=[-1, 1, -1, 1], cmap='viridis')\n",
        "plt.colorbar()\n",
        "plt.title('2D Gaussian-like Array')\n",
        "plt.xlabel('X')\n",
        "plt.ylabel('Y')\n",
        "plt.show()\n"
      ]
    },
    {
      "cell_type": "markdown",
      "metadata": {
        "id": "3OY8NuWQ12hC"
      },
      "source": [
        "57. How to randomly place p elements in a 2D array?"
      ]
    },
    {
      "cell_type": "code",
      "execution_count": null,
      "metadata": {
        "colab": {
          "base_uri": "https://localhost:8080/"
        },
        "id": "ftFdOgLz14cg",
        "outputId": "a1b7f3a5-17e5-4c52-fdc2-0ad171e61bfd"
      },
      "outputs": [
        {
          "name": "stdout",
          "output_type": "stream",
          "text": [
            "Original array:\n",
            "[[0. 0. 0. 0. 0.]\n",
            " [0. 0. 0. 0. 0.]\n",
            " [0. 0. 0. 0. 0.]\n",
            " [0. 0. 0. 0. 0.]\n",
            " [0. 0. 0. 0. 0.]]\n",
            "\n",
            "Array with randomly placed elements:\n",
            "[[0. 0. 0. 0. 0.]\n",
            " [1. 0. 0. 0. 0.]\n",
            " [0. 0. 0. 1. 0.]\n",
            " [0. 0. 0. 0. 1.]\n",
            " [0. 1. 1. 0. 0.]]\n"
          ]
        }
      ],
      "source": [
        "import numpy as np\n",
        "\n",
        "def randomly_place_elements(array, p, value):\n",
        "    # Get the total number of elements in the array\n",
        "    total_elements = array.size\n",
        "\n",
        "    # Calculating the number of elements to place\n",
        "    num_elements_to_place = int(p * total_elements)\n",
        "\n",
        "    #  random indices\n",
        "    indices = np.random.choice(total_elements, num_elements_to_place, replace=False)\n",
        "\n",
        "    # Flatten the array to 1D for easier indexing\n",
        "    flat_array = array.flatten()\n",
        "\n",
        "    # point the specified value to the randomly chosen indices\n",
        "    flat_array[indices] = value\n",
        "\n",
        "    # Reshape the flattened array back to the original shape\n",
        "    result = flat_array.reshape(array.shape)\n",
        "\n",
        "    return result\n",
        "\n",
        "# Example 2D array\n",
        "array = np.zeros((5, 5))\n",
        "\n",
        "# Number of elements to place (p)\n",
        "p = 0.2\n",
        "\n",
        "# Value to assign to the randomly placed elements\n",
        "value = 1\n",
        "\n",
        "# Random elements in the array\n",
        "result = randomly_place_elements(array, p, value)\n",
        "\n",
        "print(\"Original array:\")\n",
        "print(array)\n",
        "print(\"\\nArray with randomly placed elements:\")\n",
        "print(result)\n"
      ]
    },
    {
      "cell_type": "markdown",
      "metadata": {
        "id": "TLXyT4PQ2g0l"
      },
      "source": [
        "58. Subtract the mean of each row of a matrix"
      ]
    },
    {
      "cell_type": "code",
      "execution_count": null,
      "metadata": {
        "colab": {
          "base_uri": "https://localhost:8080/"
        },
        "id": "xYnOp1ul2p0A",
        "outputId": "2745ab7a-f1b4-47d1-d1a6-4ed047918bcc"
      },
      "outputs": [
        {
          "name": "stdout",
          "output_type": "stream",
          "text": [
            "Original matrix:\n",
            "[[1 2 3]\n",
            " [4 5 6]\n",
            " [7 8 9]]\n",
            "\n",
            "Result after subtracting the mean of each row:\n",
            "[[-1.  0.  1.]\n",
            " [-1.  0.  1.]\n",
            " [-1.  0.  1.]]\n"
          ]
        }
      ],
      "source": [
        "import numpy as np\n",
        "\n",
        "# Example matrix\n",
        "matrix = np.array([[1, 2, 3],\n",
        "                   [4, 5, 6],\n",
        "                   [7, 8, 9]])\n",
        "\n",
        "# Calculating the mean of each row\n",
        "row_means = np.mean(matrix, axis=1, keepdims=True)\n",
        "\n",
        "# Subtracting the mean of each row from the corresponding row\n",
        "result = matrix - row_means\n",
        "\n",
        "print(\"Original matrix:\")\n",
        "print(matrix)\n",
        "print(\"\\nResult after subtracting the mean of each row:\")\n",
        "print(result)\n"
      ]
    },
    {
      "cell_type": "markdown",
      "metadata": {
        "id": "YPnW5gN3idS5"
      },
      "source": [
        "59. How to sort an array by the nth column?"
      ]
    },
    {
      "cell_type": "code",
      "execution_count": 1,
      "metadata": {
        "colab": {
          "base_uri": "https://localhost:8080/"
        },
        "id": "5DqdJH-Fik98",
        "outputId": "5483071b-18c5-421b-8992-8f1dc5a01e06"
      },
      "outputs": [
        {
          "name": "stdout",
          "output_type": "stream",
          "text": [
            "Original array:\n",
            "[[1 3 2]\n",
            " [4 2 6]\n",
            " [7 1 5]]\n",
            "\n",
            "Sorted array by the nth column:\n",
            "[[7 1 5]\n",
            " [4 2 6]\n",
            " [1 3 2]]\n"
          ]
        }
      ],
      "source": [
        "import numpy as np\n",
        "\n",
        "# Example array\n",
        "array = np.array([[1, 3, 2],\n",
        "                  [4, 2, 6],\n",
        "                  [7, 1, 5]])\n",
        "\n",
        "#  the column index to sort by\n",
        "n = 1  # Sort (indexing starts from 0)\n",
        "\n",
        "#  the indices that would sort the array along the nth column\n",
        "sorted_indices = np.argsort(array[:, n])\n",
        "\n",
        "# Rearrang the rows of the array using the sorted indices\n",
        "sorted_array = array[sorted_indices]\n",
        "\n",
        "print(\"Original array:\")\n",
        "print(array)\n",
        "print(\"\\nSorted array by the nth column:\")\n",
        "print(sorted_array)\n"
      ]
    },
    {
      "cell_type": "markdown",
      "metadata": {
        "id": "v6P_m8J_jjpQ"
      },
      "source": [
        "60. How to tell if a given 2D array has null columns?"
      ]
    },
    {
      "cell_type": "code",
      "execution_count": 2,
      "metadata": {
        "colab": {
          "base_uri": "https://localhost:8080/"
        },
        "id": "EvytaaqJjllE",
        "outputId": "0b89e45c-16bc-4f65-e2a2-6c01722fd87a"
      },
      "outputs": [
        {
          "name": "stdout",
          "output_type": "stream",
          "text": [
            "Array1 has null columns: True\n",
            "Array2 has null columns: False\n"
          ]
        }
      ],
      "source": [
        "import numpy as np\n",
        "\n",
        "def has_null_columns(array):\n",
        "    # Check if any column contains only zeros\n",
        "    return np.any(np.all(array == 0, axis=0))\n",
        "\n",
        "# Example array\n",
        "array1 = np.array([[1, 0, 3],\n",
        "                   [4, 0, 6],\n",
        "                   [7, 0, 9]])\n",
        "\n",
        "array2 = np.array([[1, 2, 3],\n",
        "                   [4, 5, 6],\n",
        "                   [7, 8, 9]])\n",
        "\n",
        "# Check if array1 has null columns\n",
        "print(\"Array1 has null columns:\", has_null_columns(array1))\n",
        "\n",
        "# Check if array2 has null columns\n",
        "print(\"Array2 has null columns:\", has_null_columns(array2))\n"
      ]
    },
    {
      "cell_type": "markdown",
      "metadata": {
        "id": "LxGq6kdAj-JZ"
      },
      "source": [
        "61. Find the nearest value from a given value in an array"
      ]
    },
    {
      "cell_type": "code",
      "execution_count": 3,
      "metadata": {
        "colab": {
          "base_uri": "https://localhost:8080/"
        },
        "id": "Huz0oB2MkAl3",
        "outputId": "2bbf31b1-8e7b-4032-bb3b-630d96695873"
      },
      "outputs": [
        {
          "name": "stdout",
          "output_type": "stream",
          "text": [
            "Array: [1 3 5 7 9]\n",
            "Given value: 6\n",
            "Nearest value: 5\n",
            "Index of nearest value: 2\n"
          ]
        }
      ],
      "source": [
        "import numpy as np\n",
        "\n",
        "def nearest_value(array, value):\n",
        "    # Calculating absolute differences between the given value and each element in the array\n",
        "    absolute_differences = np.abs(array - value)\n",
        "\n",
        "    #  index of the element with the smallest absolute difference\n",
        "    nearest_index = np.argmin(absolute_differences)\n",
        "\n",
        "    #  the nearest value and its index\n",
        "    return array[nearest_index], nearest_index\n",
        "\n",
        "# Example array\n",
        "array = np.array([1, 3, 5, 7, 9])\n",
        "\n",
        "\n",
        "given_value = 6\n",
        "\n",
        "#  the nearest value and its index\n",
        "nearest, index = nearest_value(array, given_value)\n",
        "\n",
        "print(\"Array:\", array)\n",
        "print(\"Given value:\", given_value)\n",
        "print(\"Nearest value:\", nearest)\n",
        "print(\"Index of nearest value:\", index)\n"
      ]
    },
    {
      "cell_type": "markdown",
      "metadata": {
        "id": "HDGnK58rkukI"
      },
      "source": [
        "62. Considering two arrays with shape (1,3) and (3,1), how to compute their sum using an iterator?"
      ]
    },
    {
      "cell_type": "code",
      "execution_count": 4,
      "metadata": {
        "colab": {
          "base_uri": "https://localhost:8080/"
        },
        "id": "tIviQp6skwIW",
        "outputId": "25cc4495-cb48-4ef6-ed0f-40e5ab6b53e4"
      },
      "outputs": [
        {
          "name": "stdout",
          "output_type": "stream",
          "text": [
            "Sum of arrays: 21\n"
          ]
        }
      ],
      "source": [
        "import numpy as np\n",
        "\n",
        "#  (1, 3) and (3, 1)\n",
        "array1 = np.array([[1, 2, 3]])\n",
        "array2 = np.array([[4],\n",
        "                   [5],\n",
        "                   [6]])\n",
        "\n",
        "# iterator for each array\n",
        "iterator1 = np.nditer(array1)\n",
        "iterator2 = np.nditer(array2)\n",
        "\n",
        "# variable to store the sum\n",
        "sum_result = 0\n",
        "\n",
        "# the elements of both arrays and compute the sum\n",
        "while not (iterator1.finished or iterator2.finished):\n",
        "    sum_result += iterator1[0] + iterator2[0]\n",
        "    iterator1.iternext()\n",
        "    iterator2.iternext()\n",
        "\n",
        "print(\"Sum of arrays:\", sum_result)\n"
      ]
    },
    {
      "cell_type": "markdown",
      "metadata": {
        "id": "uZ2smohila_a"
      },
      "source": [
        "63. Create an array class that has a name attribute"
      ]
    },
    {
      "cell_type": "code",
      "execution_count": 5,
      "metadata": {
        "colab": {
          "base_uri": "https://localhost:8080/"
        },
        "id": "jm91iFEjlcfx",
        "outputId": "45f47c93-8481-490d-dd96-6eb7e7b4e5d0"
      },
      "outputs": [
        {
          "name": "stdout",
          "output_type": "stream",
          "text": [
            "Array Name: MyArray\n",
            "Array:\n",
            "[[1 2 3]\n",
            " [4 5 6]]\n",
            "Array Shape: (2, 3)\n",
            "Array Sum: 21\n"
          ]
        }
      ],
      "source": [
        "import numpy as np\n",
        "\n",
        "class NamedArray(np.ndarray):\n",
        "    def __new__(cls, input_array, name=None):\n",
        "        obj = np.asarray(input_array).view(cls)\n",
        "        obj.name = name\n",
        "        return obj\n",
        "\n",
        "    def __array_finalize__(self, obj):\n",
        "        if obj is None:\n",
        "            return\n",
        "        self.name = getattr(obj, 'name', None)\n",
        "\n",
        "#  NamedArray instance\n",
        "arr = NamedArray([[1, 2, 3], [4, 5, 6]], name=\"MyArray\")\n",
        "\n",
        "# name attribute\n",
        "print(\"Array Name:\", arr.name)\n",
        "\n",
        "# Test array functionality\n",
        "print(\"Array:\")\n",
        "print(arr)\n",
        "print(\"Array Shape:\", arr.shape)\n",
        "print(\"Array Sum:\", arr.sum())\n"
      ]
    },
    {
      "cell_type": "markdown",
      "metadata": {
        "id": "YwuuX6rrmJYK"
      },
      "source": [
        "64. Consider a given vector, how to add 1 to each element indexed by a second vector (be careful with repeated indices)?"
      ]
    },
    {
      "cell_type": "code",
      "execution_count": 6,
      "metadata": {
        "colab": {
          "base_uri": "https://localhost:8080/"
        },
        "id": "-P92_OZWmKtB",
        "outputId": "bf7ce768-afa3-400a-babf-5c6cb2fba2fd"
      },
      "outputs": [
        {
          "name": "stdout",
          "output_type": "stream",
          "text": [
            "Modified vector:\n",
            "[2 3 3 5 5]\n"
          ]
        }
      ],
      "source": [
        "import numpy as np\n",
        "\n",
        "# Given vector\n",
        "vector = np.array([1, 2, 3, 4, 5])\n",
        "\n",
        "# Second vector containing indices\n",
        "indices = np.array([0, 1, 1, 3, 3])\n",
        "\n",
        "# unique indices\n",
        "unique_indices = np.unique(indices)\n",
        "\n",
        "# Adding 1 to each element indexed by unique indices\n",
        "vector[unique_indices] += 1\n",
        "\n",
        "print(\"Modified vector:\")\n",
        "print(vector)\n"
      ]
    },
    {
      "cell_type": "markdown",
      "metadata": {
        "id": "BQXJjTjsmpLs"
      },
      "source": [
        "65. How to accumulate elements of a vector (X) to an array (F) based on an index list (I)?"
      ]
    },
    {
      "cell_type": "code",
      "execution_count": 13,
      "metadata": {
        "colab": {
          "base_uri": "https://localhost:8080/"
        },
        "id": "b_ZCLmWsmwK4",
        "outputId": "ae9ae03e-60b8-4292-9786-7059095a9325"
      },
      "outputs": [
        {
          "name": "stdout",
          "output_type": "stream",
          "text": [
            "[0 2 0 4 5]\n"
          ]
        }
      ],
      "source": [
        "import numpy as np\n",
        "\n",
        "# Create a vector X\n",
        "X = np.array([1, 2, 3, 4, 5])\n",
        "\n",
        "# Create an index list I\n",
        "I = np.array([1, 3, 4])\n",
        "\n",
        "# Create an array F with the same shape as X and initialize it with zeros\n",
        "F = np.zeros_like(X)\n",
        "\n",
        "# Accumulate elements of X to F based on I\n",
        "F[I] = X[I]\n",
        "\n",
        "# Print F\n",
        "print(F)"
      ]
    },
    {
      "cell_type": "markdown",
      "metadata": {
        "id": "EVoTcuOvow5x"
      },
      "source": [
        "66. Considering a (w,h,3) image of (dtype=ubyte), compute the number of unique colors"
      ]
    },
    {
      "cell_type": "code",
      "execution_count": 14,
      "metadata": {
        "colab": {
          "base_uri": "https://localhost:8080/"
        },
        "id": "310JGc4ypGUk",
        "outputId": "59088b6e-f0d0-4686-90af-257e2621a7b1"
      },
      "outputs": [
        {
          "name": "stdout",
          "output_type": "stream",
          "text": [
            "200\n"
          ]
        }
      ],
      "source": [
        "import numpy as np\n",
        "\n",
        "# Create a (w,h,3) image with random data\n",
        "w, h = 10, 20\n",
        "img = np.random.randint(0, 256, (w, h, 3), np.uint8)\n",
        "\n",
        "# Flatten the image to a 1D array\n",
        "flat_img = img.reshape(-1, 3)\n",
        "\n",
        "# Compute the number of unique colors\n",
        "unique_colors = np.unique(flat_img, axis=0)\n",
        "num_unique_colors = len(unique_colors)\n",
        "\n",
        "# Print the number of unique colors\n",
        "print(num_unique_colors)"
      ]
    },
    {
      "cell_type": "markdown",
      "metadata": {
        "id": "q-KdJ3ZvpWm3"
      },
      "source": [
        "67. Considering a four dimensions array, how to get sum over the last two axis at once?"
      ]
    },
    {
      "cell_type": "code",
      "execution_count": 15,
      "metadata": {
        "colab": {
          "base_uri": "https://localhost:8080/"
        },
        "id": "0yF16DfTpYH9",
        "outputId": "85c6ff2a-4624-4f00-a140-01bbb12a8c59"
      },
      "outputs": [
        {
          "name": "stdout",
          "output_type": "stream",
          "text": [
            "200\n"
          ]
        }
      ],
      "source": [
        "import numpy as np\n",
        "\n",
        "#  (w,h,3) image with random data\n",
        "w, h = 10, 20\n",
        "img = np.random.randint(0, 256, (w, h, 3), np.uint8)\n",
        "\n",
        "# Flatten et image to a 1D array\n",
        "flat_img = img.reshape(-1, 3)\n",
        "\n",
        "#  the number of unique colors\n",
        "unique_colors = np.unique(flat_img, axis=0)\n",
        "num_unique_colors = len(unique_colors)\n",
        "\n",
        "# Print the number of unique colors\n",
        "print(num_unique_colors)"
      ]
    },
    {
      "cell_type": "markdown",
      "metadata": {
        "id": "YfLb4C12pmTB"
      },
      "source": [
        "68. Considering a one-dimensional vector D, how to compute means of subsets of D using a vector S of same size describing subset indices?"
      ]
    },
    {
      "cell_type": "code",
      "execution_count": 16,
      "metadata": {
        "colab": {
          "base_uri": "https://localhost:8080/"
        },
        "id": "dcKzg5n8pw0f",
        "outputId": "bd30eb3a-526a-42b0-9584-3e3d6bab96c7"
      },
      "outputs": [
        {
          "name": "stdout",
          "output_type": "stream",
          "text": [
            "Means of subsets:\n",
            "[3.33333333 3.66666667]\n"
          ]
        }
      ],
      "source": [
        "import numpy as np\n",
        "\n",
        "# one-dimensional vector D\n",
        "D = np.array([1, 2, 3, 4, 5, 6])\n",
        "\n",
        "# Subset indices vector S\n",
        "S = np.array([0, 1, 0, 1, 1, 0])\n",
        "\n",
        "#  unique indices and their counts\n",
        "unique_indices, counts = np.unique(S, return_counts=True)\n",
        "\n",
        "# the means of subsets of D using vector S\n",
        "means = np.bincount(S, weights=D) / counts\n",
        "\n",
        "print(\"Means of subsets:\")\n",
        "print(means)\n"
      ]
    },
    {
      "cell_type": "markdown",
      "metadata": {
        "id": "dIEWDmpnqERz"
      },
      "source": [
        "69. How to get the diagonal of a dot product?"
      ]
    },
    {
      "cell_type": "code",
      "execution_count": 17,
      "metadata": {
        "colab": {
          "base_uri": "https://localhost:8080/"
        },
        "id": "uuVCowFEqvs8",
        "outputId": "47dd175f-7220-4dee-f4c9-3394951316cc"
      },
      "outputs": [
        {
          "name": "stdout",
          "output_type": "stream",
          "text": [
            "Diagonal of the dot product:\n",
            "[30 69 90]\n"
          ]
        }
      ],
      "source": [
        "import numpy as np\n",
        "\n",
        "# Example matrices\n",
        "A = np.array([[1, 2, 3],\n",
        "              [4, 5, 6],\n",
        "              [7, 8, 9]])\n",
        "B = np.array([[9, 8, 7],\n",
        "              [6, 5, 4],\n",
        "              [3, 2, 1]])\n",
        "\n",
        "# the dot product of the two matrices\n",
        "dot_product = np.dot(A, B)\n",
        "\n",
        "# the diagonal of the dot product using np.einsum\n",
        "diagonal = np.einsum('ii->i', dot_product)\n",
        "\n",
        "print(\"Diagonal of the dot product:\")\n",
        "print(diagonal)\n"
      ]
    },
    {
      "cell_type": "markdown",
      "metadata": {
        "id": "RadwiJFcq71R"
      },
      "source": [
        "70.Consider the vector [1, 2, 3, 4, 5], how to build a new vector with 3 consecutive zeros interleaved between each value?"
      ]
    },
    {
      "cell_type": "code",
      "execution_count": 18,
      "metadata": {
        "colab": {
          "base_uri": "https://localhost:8080/"
        },
        "id": "wBcAC0WbrnEW",
        "outputId": "5cb3ad44-d6df-41dd-d05c-540a0dc46aa4"
      },
      "outputs": [
        {
          "name": "stdout",
          "output_type": "stream",
          "text": [
            "New vector with 3 consecutive zeros interleaved between each value:\n",
            "[1 1 1 1 0 2 2 2 2 0 3 3 3 3 0 4 4 4 4 0 5 5 5 5 0]\n"
          ]
        }
      ],
      "source": [
        "import numpy as np\n",
        "\n",
        "# vector\n",
        "vector = np.array([1, 2, 3, 4, 5])\n",
        "\n",
        "# consecutive zeros\n",
        "num_zeros = 3\n",
        "\n",
        "# value of the vector and insert zeros between them\n",
        "new_vector = np.repeat(vector, num_zeros + 1)\n",
        "\n",
        "# Inserting zeros between each repeated value\n",
        "new_vector = np.insert(new_vector, np.arange(1, len(vector) + 1) * (num_zeros + 1), 0)\n",
        "\n",
        "print(\"New vector with 3 consecutive zeros interleaved between each value:\")\n",
        "print(new_vector)\n"
      ]
    },
    {
      "cell_type": "markdown",
      "metadata": {
        "id": "tFP7L_Dnry_o"
      },
      "source": [
        "71.Consider an array of dimension (5,5,3), how to mulitply it by an array with dimensions (5,5)?"
      ]
    },
    {
      "cell_type": "code",
      "execution_count": 19,
      "metadata": {
        "colab": {
          "base_uri": "https://localhost:8080/"
        },
        "id": "ZVEDYq1zsWSP",
        "outputId": "caf5e5a2-0d75-41fb-cee3-5c342b7e0288"
      },
      "outputs": [
        {
          "name": "stdout",
          "output_type": "stream",
          "text": [
            "Shape of array_3d: (5, 5, 3)\n",
            "Shape of array_2d: (5, 5)\n",
            "Shape of result after broadcasting: (5, 5, 3)\n"
          ]
        }
      ],
      "source": [
        "import numpy as np\n",
        "\n",
        "# arrays\n",
        "array_3d = np.random.rand(5, 5, 3)\n",
        "array_2d = np.random.rand(5, 5)\n",
        "\n",
        "# Multiplying array_3d by array_2d using broadcasting\n",
        "result = array_3d * array_2d[:,:,None]\n",
        "\n",
        "# the shapes of the arrays before and after broadcasting\n",
        "print(\"Shape of array_3d:\", array_3d.shape)\n",
        "print(\"Shape of array_2d:\", array_2d.shape)\n",
        "print(\"Shape of result after broadcasting:\", result.shape)\n"
      ]
    },
    {
      "cell_type": "markdown",
      "metadata": {
        "id": "stZSaBz1s2TY"
      },
      "source": [
        "72. How to swap two rows of an array?"
      ]
    },
    {
      "cell_type": "code",
      "execution_count": 20,
      "metadata": {
        "colab": {
          "base_uri": "https://localhost:8080/"
        },
        "id": "XT6aTaoNs_el",
        "outputId": "d81d4b26-e9ad-46f4-9d5f-f44e8650899b"
      },
      "outputs": [
        {
          "name": "stdout",
          "output_type": "stream",
          "text": [
            "Array after swapping rows 0 and 1:\n",
            "[[4 5 6]\n",
            " [1 2 3]\n",
            " [7 8 9]]\n"
          ]
        }
      ],
      "source": [
        "import numpy as np\n",
        "\n",
        "# array\n",
        "array = np.array([[1, 2, 3],\n",
        "                  [4, 5, 6],\n",
        "                  [7, 8, 9]])\n",
        "\n",
        "# Swaping rows 0 and 1\n",
        "array[[0, 1]] = array[[1, 0]]\n",
        "\n",
        "print(\"Array after swapping rows 0 and 1:\")\n",
        "print(array)\n"
      ]
    },
    {
      "cell_type": "markdown",
      "metadata": {
        "id": "5JywHuUFu37c"
      },
      "source": [
        "74.Given a sorted array C that corresponds to a bincount, how to produce an array A such that np.bincount(A) == C?"
      ]
    },
    {
      "cell_type": "code",
      "execution_count": 24,
      "metadata": {
        "colab": {
          "base_uri": "https://localhost:8080/"
        },
        "id": "g3Aq8RDfvM7j",
        "outputId": "6b2f4545-12a2-47ff-c9c4-6a3c98ba45a6"
      },
      "outputs": [
        {
          "name": "stdout",
          "output_type": "stream",
          "text": [
            "Array A such that np.bincount(A) == C:\n",
            "[1 2 2 3 3 3 5 5 6]\n"
          ]
        }
      ],
      "source": [
        "import numpy as np\n",
        "\n",
        "def array_from_bincount(C):\n",
        "    # Repeat each index i, C[i] times\n",
        "    return np.repeat(np.arange(len(C)), C)\n",
        "\n",
        "#  sorted array corresponding to bincount\n",
        "C = np.array([0, 1, 2, 3, 0, 2, 1])\n",
        "\n",
        "# array A\n",
        "A = array_from_bincount(C)\n",
        "\n",
        "print(\"Array A such that np.bincount(A) == C:\")\n",
        "print(A)\n"
      ]
    },
    {
      "cell_type": "markdown",
      "metadata": {
        "id": "q-ahDzhowMrj"
      },
      "source": [
        "75. 75.How to compute averages using a sliding window over an array?"
      ]
    },
    {
      "cell_type": "markdown",
      "metadata": {
        "id": "yntdTVybv-kH"
      },
      "source": []
    },
    {
      "cell_type": "code",
      "execution_count": 25,
      "metadata": {
        "colab": {
          "base_uri": "https://localhost:8080/"
        },
        "id": "6X0F5p74vh2J",
        "outputId": "f56fc403-aeeb-45df-a66c-32cacb2f369c"
      },
      "outputs": [
        {
          "name": "stdout",
          "output_type": "stream",
          "text": [
            "Sliding window averages: [2. 3. 4. 5. 6. 7. 8. 9.]\n"
          ]
        }
      ],
      "source": [
        "import numpy as np\n",
        "\n",
        "def sliding_window_average(arr, window_size):\n",
        "    # Define a kernel for the sliding window\n",
        "    kernel = np.ones(window_size) / window_size\n",
        "\n",
        "    # Use np.convolve to compute the sliding window average\n",
        "    averages = np.convolve(arr, kernel, mode='valid')\n",
        "\n",
        "    return averages\n",
        "\n",
        "# Example array\n",
        "arr = np.array([1, 2, 3, 4, 5, 6, 7, 8, 9, 10])\n",
        "\n",
        "# Sliding window size\n",
        "window_size = 3\n",
        "\n",
        "# Compute sliding window averages\n",
        "averages = sliding_window_average(arr, window_size)\n",
        "\n",
        "print(\"Sliding window averages:\", averages)\n"
      ]
    },
    {
      "cell_type": "markdown",
      "metadata": {
        "id": "dP2c7GUpwVPl"
      },
      "source": [
        "76. Consider a one-dimensional array Z, build a two-dimensional array whose first row is (Z[0],Z[1],Z[2]) and each subsequent row is shifted by 1 (last row should be (Z[-3],Z[-2],Z[-1])"
      ]
    },
    {
      "cell_type": "code",
      "execution_count": 26,
      "metadata": {
        "colab": {
          "base_uri": "https://localhost:8080/"
        },
        "id": "3Ksov2vcwf5g",
        "outputId": "0663ff3d-bba8-404b-836d-65faec48af3b"
      },
      "outputs": [
        {
          "name": "stdout",
          "output_type": "stream",
          "text": [
            "Two-dimensional array:\n",
            "[[1 2 3]\n",
            " [2 3 4]\n",
            " [3 4 5]\n",
            " [4 5 6]]\n"
          ]
        }
      ],
      "source": [
        "import numpy as np\n",
        "\n",
        "def shift_array(Z, shift):\n",
        "    # rows\n",
        "    nrows = len(Z) - shift\n",
        "\n",
        "    # input array with the desired shape and strides\n",
        "    strides = (Z.strides[0],) * 2  # Use the same stride for both dimensions\n",
        "    return np.lib.stride_tricks.as_strided(Z, shape=(nrows, shift), strides=strides)\n",
        "\n",
        "# a one-dimensional array\n",
        "Z = np.array([1, 2, 3, 4, 5, 6, 7])\n",
        "\n",
        "# two-dimensional array with shifting\n",
        "result = shift_array(Z, 3)\n",
        "\n",
        "print(\"Two-dimensional array:\")\n",
        "print(result)\n"
      ]
    },
    {
      "cell_type": "markdown",
      "metadata": {
        "id": "5rwi8GXLw-rl"
      },
      "source": [
        "77.  How to negate a boolean, or to change the sign of a float inplace?"
      ]
    },
    {
      "cell_type": "code",
      "execution_count": 27,
      "metadata": {
        "colab": {
          "base_uri": "https://localhost:8080/"
        },
        "id": "WMg7OKsyxFEc",
        "outputId": "d00c9da0-1d79-41c7-dece-08bd78d4c9bb"
      },
      "outputs": [
        {
          "name": "stdout",
          "output_type": "stream",
          "text": [
            "Negated boolean: False\n",
            "Changed sign of float: -3.14\n"
          ]
        }
      ],
      "source": [
        "# Negate a boolean\n",
        "boolean_value = True\n",
        "negated_boolean = not boolean_value\n",
        "print(\"Negated boolean:\", negated_boolean)\n",
        "\n",
        "# Changing the sign of a float\n",
        "float_value = 3.14\n",
        "float_value = -float_value  # Assign the negated value to the original variable\n",
        "print(\"Changed sign of float:\", float_value)\n"
      ]
    },
    {
      "cell_type": "markdown",
      "metadata": {
        "id": "-Qp9_Z6YxcKs"
      },
      "source": [
        "78. Consider 2 sets of points P0,P1 describing lines (2d) and a point p, how to compute distance from p to each line i (P0[i],P1[i])?"
      ]
    },
    {
      "cell_type": "code",
      "execution_count": 28,
      "metadata": {
        "colab": {
          "base_uri": "https://localhost:8080/"
        },
        "id": "bzgNYrdXxkgR",
        "outputId": "f7f0687d-928e-44f0-eb80-146bb8a488f3"
      },
      "outputs": [
        {
          "name": "stdout",
          "output_type": "stream",
          "text": [
            "Distances from p to each line: [0.5 0.5]\n"
          ]
        }
      ],
      "source": [
        "import numpy as np\n",
        "\n",
        "def distance_to_line(p0, p1, p):\n",
        "    # Vector from p0 to p1\n",
        "    v = p1 - p0\n",
        "\n",
        "    # Vector from p0 to p\n",
        "    w = p - p0\n",
        "\n",
        "    # Project w onto v\n",
        "    c = np.dot(w, v) / np.dot(v, v)\n",
        "\n",
        "    # Closest point on the line to p\n",
        "    closest_point = p0 + c * v\n",
        "\n",
        "    # Distance from p to the closest point on the line\n",
        "    distance = np.linalg.norm(p - closest_point)\n",
        "\n",
        "    return distance\n",
        "\n",
        "def distances_to_lines(P0, P1, p):\n",
        "    # Initialize array to store distances\n",
        "    distances = np.zeros(len(P0))\n",
        "\n",
        "    #  distance to each line\n",
        "    for i in range(len(P0)):\n",
        "        distances[i] = distance_to_line(P0[i], P1[i], p)\n",
        "\n",
        "    return distances\n",
        "\n",
        "#  sets of points describing lines\n",
        "P0 = np.array([[0, 0], [1, 1]])\n",
        "P1 = np.array([[1, 0], [0, 1]])\n",
        "\n",
        "# point p\n",
        "p = np.array([0.5, 0.5])\n",
        "\n",
        "# distances from p to each line\n",
        "distances = distances_to_lines(P0, P1, p)\n",
        "\n",
        "print(\"Distances from p to each line:\", distances)\n"
      ]
    },
    {
      "cell_type": "markdown",
      "metadata": {
        "id": "FnqVjJGKyCjm"
      },
      "source": [
        "79. Consider 2 sets of points P0,P1 describing lines (2d) and a set of points P, how to compute distance from each point j (P[j]) to each line i (P0[i],P1[i])?"
      ]
    },
    {
      "cell_type": "code",
      "execution_count": 29,
      "metadata": {
        "colab": {
          "base_uri": "https://localhost:8080/"
        },
        "id": "_RLO_fktyIX7",
        "outputId": "6082b2e0-9073-4166-e879-572a95164c9c"
      },
      "outputs": [
        {
          "name": "stdout",
          "output_type": "stream",
          "text": [
            "Distances from each point to each line:\n",
            "[[0.5 0.7 0.3]\n",
            " [0.5 0.3 0.7]]\n"
          ]
        }
      ],
      "source": [
        "import numpy as np\n",
        "\n",
        "def distance_to_line(p0, p1, p):\n",
        "    # Vector from p0 to p1\n",
        "    v = p1 - p0\n",
        "\n",
        "    # Vector from p0 to p\n",
        "    w = p - p0\n",
        "\n",
        "    # Project w onto v\n",
        "    c = np.dot(w, v) / np.dot(v, v)\n",
        "\n",
        "    # Closest point on the line to p\n",
        "    closest_point = p0 + c * v\n",
        "\n",
        "    # Distance from p to the closest point on the line\n",
        "    distance = np.linalg.norm(p - closest_point)\n",
        "\n",
        "    return distance\n",
        "\n",
        "def distances_to_lines(P0, P1, P):\n",
        "    # start array to store distances\n",
        "    distances = np.zeros((len(P0), len(P)))\n",
        "\n",
        "    #  distance to each line for each point\n",
        "    for i in range(len(P0)):\n",
        "        for j in range(len(P)):\n",
        "            distances[i, j] = distance_to_line(P0[i], P1[i], P[j])\n",
        "\n",
        "    return distances\n",
        "\n",
        "# Example sets of points describing lines\n",
        "P0 = np.array([[0, 0], [1, 1]])\n",
        "P1 = np.array([[1, 0], [0, 1]])\n",
        "\n",
        "#  set of points\n",
        "P = np.array([[0.5, 0.5], [0.2, 0.7], [0.8, 0.3]])\n",
        "\n",
        "# distances from each point to each line\n",
        "distances = distances_to_lines(P0, P1, P)\n",
        "\n",
        "print(\"Distances from each point to each line:\")\n",
        "print(distances)\n"
      ]
    },
    {
      "cell_type": "markdown",
      "metadata": {
        "id": "xYGv-bvoymEr"
      },
      "source": [
        "80. Consider an arbitrary array, write a function that extract a subpart with a fixed shape and centered on a given element (pad with a fill value when necessary)"
      ]
    },
    {
      "cell_type": "code",
      "execution_count": 30,
      "metadata": {
        "colab": {
          "base_uri": "https://localhost:8080/"
        },
        "id": "jDcaVjhlyxGe",
        "outputId": "8da64524-c568-43f8-990d-ae5bd7037abf"
      },
      "outputs": [
        {
          "name": "stdout",
          "output_type": "stream",
          "text": [
            "Subpart with shape (2, 2) centered on (1, 1) :\n",
            " [[1 2]\n",
            " [4 5]]\n"
          ]
        }
      ],
      "source": [
        "import numpy as np\n",
        "\n",
        "def extract_subpart(array, center, shape, fill_value=0):\n",
        "    # Calculate the starting and ending indices of the subpart\n",
        "    start_indices = np.maximum(center - np.array(shape) // 2, 0)\n",
        "    end_indices = start_indices + shape\n",
        "    pad_start = np.maximum(-start_indices, 0)\n",
        "    pad_end = np.maximum(end_indices - np.array(array.shape), 0)\n",
        "\n",
        "    # Pad the array if necessary\n",
        "    padded_array = np.pad(array, [(pad_start[i], pad_end[i]) for i in range(len(shape))], mode='constant', constant_values=fill_value)\n",
        "\n",
        "    # Extracting the subpart\n",
        "    subpart = padded_array[start_indices[0]:end_indices[0], start_indices[1]:end_indices[1]]\n",
        "\n",
        "    return subpart\n",
        "\n",
        "# an array\n",
        "array = np.array([[1, 2, 3],\n",
        "                  [4, 5, 6],\n",
        "                  [7, 8, 9]])\n",
        "\n",
        "# center and shape\n",
        "center = (1, 1)\n",
        "shape = (2, 2)\n",
        "\n",
        "#  subpart\n",
        "subpart = extract_subpart(array, center, shape, fill_value=0)\n",
        "\n",
        "print(\"Subpart with shape\", shape, \"centered on\", center, \":\\n\", subpart)\n"
      ]
    },
    {
      "cell_type": "markdown",
      "metadata": {
        "id": "mWnPatqLzO_t"
      },
      "source": [
        "81.81. Consider an array Z = [1,2,3,4,5,6,7,8,9,10,11,12,13,14], how to generate an array R = [[1,2,3,4], [2,3,4,5], [3,4,5,6], ..., [11,12,13,14]]?"
      ]
    },
    {
      "cell_type": "code",
      "execution_count": 31,
      "metadata": {
        "colab": {
          "base_uri": "https://localhost:8080/"
        },
        "id": "-OHPKPOBzWw2",
        "outputId": "5db7a15d-2f50-4252-bbdf-63e563b45bed"
      },
      "outputs": [
        {
          "name": "stdout",
          "output_type": "stream",
          "text": [
            "Subpart with shape (2, 2) centered on (1, 1) :\n",
            " [[1 2]\n",
            " [4 5]]\n"
          ]
        }
      ],
      "source": [
        "import numpy as np\n",
        "\n",
        "def extract_subpart(array, center, shape, fill_value=0):\n",
        "    # Calculate the starting and ending indices of the subpart\n",
        "    start_indices = np.maximum(center - np.array(shape) // 2, 0)\n",
        "    end_indices = start_indices + shape\n",
        "    pad_start = np.maximum(-start_indices, 0)\n",
        "    pad_end = np.maximum(end_indices - np.array(array.shape), 0)\n",
        "\n",
        "    # Pad the array if necessary\n",
        "    padded_array = np.pad(array, [(pad_start[i], pad_end[i]) for i in range(len(shape))], mode='constant', constant_values=fill_value)\n",
        "\n",
        "    # Extract the subpart\n",
        "    subpart = padded_array[start_indices[0]:end_indices[0], start_indices[1]:end_indices[1]]\n",
        "\n",
        "    return subpart\n",
        "\n",
        "#  array\n",
        "array = np.array([[1, 2, 3],\n",
        "                  [4, 5, 6],\n",
        "                  [7, 8, 9]])\n",
        "\n",
        "# center and shape\n",
        "center = (1, 1)\n",
        "shape = (2, 2)\n",
        "\n",
        "# Extract subpart\n",
        "subpart = extract_subpart(array, center, shape, fill_value=0)\n",
        "\n",
        "print(\"Subpart with shape\", shape, \"centered on\", center, \":\\n\", subpart)\n"
      ]
    },
    {
      "cell_type": "markdown",
      "metadata": {
        "id": "StwQJWkLzpcP"
      },
      "source": [
        "82. Compute a matrix rank"
      ]
    },
    {
      "cell_type": "code",
      "execution_count": null,
      "metadata": {
        "id": "0beL-gLGzwAQ"
      },
      "outputs": [],
      "source": [
        "import numpy as np\n",
        "\n",
        "#  matrix\n",
        "matrix = np.array([[1, 2, 3],\n",
        "                   [4, 5, 6],\n",
        "                   [7, 8, 9]])\n",
        "\n",
        "# computng rank of the matrix\n",
        "rank = np.linalg.matrix_rank(matrix)\n",
        "\n",
        "print(\"Rank of the matrix:\", rank)\n"
      ]
    },
    {
      "cell_type": "markdown",
      "metadata": {
        "id": "XG__lQhq0IHb"
      },
      "source": [
        "83.How to find the most frequent value in an array?"
      ]
    },
    {
      "cell_type": "code",
      "execution_count": 32,
      "metadata": {
        "colab": {
          "base_uri": "https://localhost:8080/"
        },
        "id": "Gn4js4aP0Pis",
        "outputId": "cd2364b1-aaf6-459d-90c2-8e419ff48338"
      },
      "outputs": [
        {
          "name": "stdout",
          "output_type": "stream",
          "text": [
            "Most frequent value: 2\n"
          ]
        }
      ],
      "source": [
        "import numpy as np\n",
        "\n",
        "# array\n",
        "array = np.array([1, 2, 3, 1, 2, 2, 3, 2, 2, 2, 2])\n",
        "\n",
        "# Finding the counts of each value\n",
        "counts = np.bincount(array)\n",
        "\n",
        "# Find the index of the most frequent value\n",
        "most_frequent_value = np.argmax(counts)\n",
        "\n",
        "print(\"Most frequent value:\", most_frequent_value)\n"
      ]
    },
    {
      "cell_type": "markdown",
      "metadata": {
        "id": "tbrc67c-0fvZ"
      },
      "source": [
        "84.  Extract all the contiguous 3x3 blocks from a random 10x10 matrix"
      ]
    },
    {
      "cell_type": "code",
      "execution_count": 33,
      "metadata": {
        "colab": {
          "base_uri": "https://localhost:8080/"
        },
        "id": "pS9YnkJS0nvV",
        "outputId": "3d379c70-861a-4dfc-82e4-7f909cd76a06"
      },
      "outputs": [
        {
          "name": "stdout",
          "output_type": "stream",
          "text": [
            "Block 1 :\n",
            " [[0.95701005 0.83503584 0.51146016]\n",
            " [0.40522077 0.99139443 0.26738858]\n",
            " [0.54682552 0.68351493 0.91907676]]\n",
            "\n",
            "Block 2 :\n",
            " [[0.83503584 0.51146016 0.62227765]\n",
            " [0.99139443 0.26738858 0.86675537]\n",
            " [0.68351493 0.91907676 0.66098757]]\n",
            "\n",
            "Block 3 :\n",
            " [[0.51146016 0.62227765 0.25203953]\n",
            " [0.26738858 0.86675537 0.58488218]\n",
            " [0.91907676 0.66098757 0.28862656]]\n",
            "\n",
            "Block 4 :\n",
            " [[0.62227765 0.25203953 0.2789074 ]\n",
            " [0.86675537 0.58488218 0.01002682]\n",
            " [0.66098757 0.28862656 0.69088013]]\n",
            "\n",
            "Block 5 :\n",
            " [[0.25203953 0.2789074  0.7725615 ]\n",
            " [0.58488218 0.01002682 0.85366587]\n",
            " [0.28862656 0.69088013 0.69964685]]\n",
            "\n",
            "Block 6 :\n",
            " [[0.2789074  0.7725615  0.07964477]\n",
            " [0.01002682 0.85366587 0.84974879]\n",
            " [0.69088013 0.69964685 0.25448821]]\n",
            "\n",
            "Block 7 :\n",
            " [[0.7725615  0.07964477 0.69705184]\n",
            " [0.85366587 0.84974879 0.56353234]\n",
            " [0.69964685 0.25448821 0.2143848 ]]\n",
            "\n",
            "Block 8 :\n",
            " [[0.07964477 0.69705184 0.47845414]\n",
            " [0.84974879 0.56353234 0.31989565]\n",
            " [0.25448821 0.2143848  0.38169548]]\n",
            "\n",
            "Block 9 :\n",
            " [[0.40522077 0.99139443 0.26738858]\n",
            " [0.54682552 0.68351493 0.91907676]\n",
            " [0.6713697  0.60137909 0.96849804]]\n",
            "\n",
            "Block 10 :\n",
            " [[0.99139443 0.26738858 0.86675537]\n",
            " [0.68351493 0.91907676 0.66098757]\n",
            " [0.60137909 0.96849804 0.36390911]]\n",
            "\n",
            "Block 11 :\n",
            " [[0.26738858 0.86675537 0.58488218]\n",
            " [0.91907676 0.66098757 0.28862656]\n",
            " [0.96849804 0.36390911 0.34109254]]\n",
            "\n",
            "Block 12 :\n",
            " [[0.86675537 0.58488218 0.01002682]\n",
            " [0.66098757 0.28862656 0.69088013]\n",
            " [0.36390911 0.34109254 0.0064723 ]]\n",
            "\n",
            "Block 13 :\n",
            " [[0.58488218 0.01002682 0.85366587]\n",
            " [0.28862656 0.69088013 0.69964685]\n",
            " [0.34109254 0.0064723  0.61818877]]\n",
            "\n",
            "Block 14 :\n",
            " [[0.01002682 0.85366587 0.84974879]\n",
            " [0.69088013 0.69964685 0.25448821]\n",
            " [0.0064723  0.61818877 0.36121953]]\n",
            "\n",
            "Block 15 :\n",
            " [[0.85366587 0.84974879 0.56353234]\n",
            " [0.69964685 0.25448821 0.2143848 ]\n",
            " [0.61818877 0.36121953 0.58193577]]\n",
            "\n",
            "Block 16 :\n",
            " [[0.84974879 0.56353234 0.31989565]\n",
            " [0.25448821 0.2143848  0.38169548]\n",
            " [0.36121953 0.58193577 0.66803789]]\n",
            "\n",
            "Block 17 :\n",
            " [[0.54682552 0.68351493 0.91907676]\n",
            " [0.6713697  0.60137909 0.96849804]\n",
            " [0.96507816 0.57678482 0.86170195]]\n",
            "\n",
            "Block 18 :\n",
            " [[0.68351493 0.91907676 0.66098757]\n",
            " [0.60137909 0.96849804 0.36390911]\n",
            " [0.57678482 0.86170195 0.6748179 ]]\n",
            "\n",
            "Block 19 :\n",
            " [[0.91907676 0.66098757 0.28862656]\n",
            " [0.96849804 0.36390911 0.34109254]\n",
            " [0.86170195 0.6748179  0.35042304]]\n",
            "\n",
            "Block 20 :\n",
            " [[0.66098757 0.28862656 0.69088013]\n",
            " [0.36390911 0.34109254 0.0064723 ]\n",
            " [0.6748179  0.35042304 0.18756095]]\n",
            "\n",
            "Block 21 :\n",
            " [[0.28862656 0.69088013 0.69964685]\n",
            " [0.34109254 0.0064723  0.61818877]\n",
            " [0.35042304 0.18756095 0.66064735]]\n",
            "\n",
            "Block 22 :\n",
            " [[0.69088013 0.69964685 0.25448821]\n",
            " [0.0064723  0.61818877 0.36121953]\n",
            " [0.18756095 0.66064735 0.76757383]]\n",
            "\n",
            "Block 23 :\n",
            " [[0.69964685 0.25448821 0.2143848 ]\n",
            " [0.61818877 0.36121953 0.58193577]\n",
            " [0.66064735 0.76757383 0.68663551]]\n",
            "\n",
            "Block 24 :\n",
            " [[0.25448821 0.2143848  0.38169548]\n",
            " [0.36121953 0.58193577 0.66803789]\n",
            " [0.76757383 0.68663551 0.67432492]]\n",
            "\n",
            "Block 25 :\n",
            " [[0.6713697  0.60137909 0.96849804]\n",
            " [0.96507816 0.57678482 0.86170195]\n",
            " [0.97295638 0.40880804 0.79262794]]\n",
            "\n",
            "Block 26 :\n",
            " [[0.60137909 0.96849804 0.36390911]\n",
            " [0.57678482 0.86170195 0.6748179 ]\n",
            " [0.40880804 0.79262794 0.12747641]]\n",
            "\n",
            "Block 27 :\n",
            " [[0.96849804 0.36390911 0.34109254]\n",
            " [0.86170195 0.6748179  0.35042304]\n",
            " [0.79262794 0.12747641 0.81640996]]\n",
            "\n",
            "Block 28 :\n",
            " [[0.36390911 0.34109254 0.0064723 ]\n",
            " [0.6748179  0.35042304 0.18756095]\n",
            " [0.12747641 0.81640996 0.93820208]]\n",
            "\n",
            "Block 29 :\n",
            " [[0.34109254 0.0064723  0.61818877]\n",
            " [0.35042304 0.18756095 0.66064735]\n",
            " [0.81640996 0.93820208 0.03888461]]\n",
            "\n",
            "Block 30 :\n",
            " [[0.0064723  0.61818877 0.36121953]\n",
            " [0.18756095 0.66064735 0.76757383]\n",
            " [0.93820208 0.03888461 0.59501517]]\n",
            "\n",
            "Block 31 :\n",
            " [[0.61818877 0.36121953 0.58193577]\n",
            " [0.66064735 0.76757383 0.68663551]\n",
            " [0.03888461 0.59501517 0.16538007]]\n",
            "\n",
            "Block 32 :\n",
            " [[0.36121953 0.58193577 0.66803789]\n",
            " [0.76757383 0.68663551 0.67432492]\n",
            " [0.59501517 0.16538007 0.21357968]]\n",
            "\n",
            "Block 33 :\n",
            " [[0.96507816 0.57678482 0.86170195]\n",
            " [0.97295638 0.40880804 0.79262794]\n",
            " [0.88585633 0.4148966  0.87963611]]\n",
            "\n",
            "Block 34 :\n",
            " [[0.57678482 0.86170195 0.6748179 ]\n",
            " [0.40880804 0.79262794 0.12747641]\n",
            " [0.4148966  0.87963611 0.62365756]]\n",
            "\n",
            "Block 35 :\n",
            " [[0.86170195 0.6748179  0.35042304]\n",
            " [0.79262794 0.12747641 0.81640996]\n",
            " [0.87963611 0.62365756 0.53615481]]\n",
            "\n",
            "Block 36 :\n",
            " [[0.6748179  0.35042304 0.18756095]\n",
            " [0.12747641 0.81640996 0.93820208]\n",
            " [0.62365756 0.53615481 0.54826844]]\n",
            "\n",
            "Block 37 :\n",
            " [[0.35042304 0.18756095 0.66064735]\n",
            " [0.81640996 0.93820208 0.03888461]\n",
            " [0.53615481 0.54826844 0.70290155]]\n",
            "\n",
            "Block 38 :\n",
            " [[0.18756095 0.66064735 0.76757383]\n",
            " [0.93820208 0.03888461 0.59501517]\n",
            " [0.54826844 0.70290155 0.36127878]]\n",
            "\n",
            "Block 39 :\n",
            " [[0.66064735 0.76757383 0.68663551]\n",
            " [0.03888461 0.59501517 0.16538007]\n",
            " [0.70290155 0.36127878 0.22002798]]\n",
            "\n",
            "Block 40 :\n",
            " [[0.76757383 0.68663551 0.67432492]\n",
            " [0.59501517 0.16538007 0.21357968]\n",
            " [0.36127878 0.22002798 0.9377125 ]]\n",
            "\n",
            "Block 41 :\n",
            " [[0.97295638 0.40880804 0.79262794]\n",
            " [0.88585633 0.4148966  0.87963611]\n",
            " [0.14691497 0.29805039 0.90249939]]\n",
            "\n",
            "Block 42 :\n",
            " [[0.40880804 0.79262794 0.12747641]\n",
            " [0.4148966  0.87963611 0.62365756]\n",
            " [0.29805039 0.90249939 0.00415269]]\n",
            "\n",
            "Block 43 :\n",
            " [[0.79262794 0.12747641 0.81640996]\n",
            " [0.87963611 0.62365756 0.53615481]\n",
            " [0.90249939 0.00415269 0.58504573]]\n",
            "\n",
            "Block 44 :\n",
            " [[0.12747641 0.81640996 0.93820208]\n",
            " [0.62365756 0.53615481 0.54826844]\n",
            " [0.00415269 0.58504573 0.31313876]]\n",
            "\n",
            "Block 45 :\n",
            " [[0.81640996 0.93820208 0.03888461]\n",
            " [0.53615481 0.54826844 0.70290155]\n",
            " [0.58504573 0.31313876 0.9240369 ]]\n",
            "\n",
            "Block 46 :\n",
            " [[0.93820208 0.03888461 0.59501517]\n",
            " [0.54826844 0.70290155 0.36127878]\n",
            " [0.31313876 0.9240369  0.3106251 ]]\n",
            "\n",
            "Block 47 :\n",
            " [[0.03888461 0.59501517 0.16538007]\n",
            " [0.70290155 0.36127878 0.22002798]\n",
            " [0.9240369  0.3106251  0.7770248 ]]\n",
            "\n",
            "Block 48 :\n",
            " [[0.59501517 0.16538007 0.21357968]\n",
            " [0.36127878 0.22002798 0.9377125 ]\n",
            " [0.3106251  0.7770248  0.27789571]]\n",
            "\n",
            "Block 49 :\n",
            " [[0.88585633 0.4148966  0.87963611]\n",
            " [0.14691497 0.29805039 0.90249939]\n",
            " [0.42965763 0.58878066 0.14894689]]\n",
            "\n",
            "Block 50 :\n",
            " [[0.4148966  0.87963611 0.62365756]\n",
            " [0.29805039 0.90249939 0.00415269]\n",
            " [0.58878066 0.14894689 0.38595082]]\n",
            "\n",
            "Block 51 :\n",
            " [[0.87963611 0.62365756 0.53615481]\n",
            " [0.90249939 0.00415269 0.58504573]\n",
            " [0.14894689 0.38595082 0.57699366]]\n",
            "\n",
            "Block 52 :\n",
            " [[0.62365756 0.53615481 0.54826844]\n",
            " [0.00415269 0.58504573 0.31313876]\n",
            " [0.38595082 0.57699366 0.24128731]]\n",
            "\n",
            "Block 53 :\n",
            " [[0.53615481 0.54826844 0.70290155]\n",
            " [0.58504573 0.31313876 0.9240369 ]\n",
            " [0.57699366 0.24128731 0.43651425]]\n",
            "\n",
            "Block 54 :\n",
            " [[0.54826844 0.70290155 0.36127878]\n",
            " [0.31313876 0.9240369  0.3106251 ]\n",
            " [0.24128731 0.43651425 0.56342441]]\n",
            "\n",
            "Block 55 :\n",
            " [[0.70290155 0.36127878 0.22002798]\n",
            " [0.9240369  0.3106251  0.7770248 ]\n",
            " [0.43651425 0.56342441 0.92359639]]\n",
            "\n",
            "Block 56 :\n",
            " [[0.36127878 0.22002798 0.9377125 ]\n",
            " [0.3106251  0.7770248  0.27789571]\n",
            " [0.56342441 0.92359639 0.61306387]]\n",
            "\n",
            "Block 57 :\n",
            " [[0.14691497 0.29805039 0.90249939]\n",
            " [0.42965763 0.58878066 0.14894689]\n",
            " [0.88535506 0.98535883 0.94371122]]\n",
            "\n",
            "Block 58 :\n",
            " [[0.29805039 0.90249939 0.00415269]\n",
            " [0.58878066 0.14894689 0.38595082]\n",
            " [0.98535883 0.94371122 0.30063703]]\n",
            "\n",
            "Block 59 :\n",
            " [[0.90249939 0.00415269 0.58504573]\n",
            " [0.14894689 0.38595082 0.57699366]\n",
            " [0.94371122 0.30063703 0.6558877 ]]\n",
            "\n",
            "Block 60 :\n",
            " [[0.00415269 0.58504573 0.31313876]\n",
            " [0.38595082 0.57699366 0.24128731]\n",
            " [0.30063703 0.6558877  0.39385026]]\n",
            "\n",
            "Block 61 :\n",
            " [[0.58504573 0.31313876 0.9240369 ]\n",
            " [0.57699366 0.24128731 0.43651425]\n",
            " [0.6558877  0.39385026 0.80928599]]\n",
            "\n",
            "Block 62 :\n",
            " [[0.31313876 0.9240369  0.3106251 ]\n",
            " [0.24128731 0.43651425 0.56342441]\n",
            " [0.39385026 0.80928599 0.5738205 ]]\n",
            "\n",
            "Block 63 :\n",
            " [[0.9240369  0.3106251  0.7770248 ]\n",
            " [0.43651425 0.56342441 0.92359639]\n",
            " [0.80928599 0.5738205  0.56182561]]\n",
            "\n",
            "Block 64 :\n",
            " [[0.3106251  0.7770248  0.27789571]\n",
            " [0.56342441 0.92359639 0.61306387]\n",
            " [0.5738205  0.56182561 0.94640862]]\n",
            "\n"
          ]
        }
      ],
      "source": [
        "import numpy as np\n",
        "\n",
        "# a random 10x10 matrix\n",
        "matrix = np.random.rand(10, 10)\n",
        "\n",
        "# Initializing list to store 3x3 blocks\n",
        "blocks = []\n",
        "\n",
        "# Iterate over rows and columns to extract 3x3 blocks\n",
        "for i in range(8):  # Iterate up to index 7 to avoid going out of bounds\n",
        "    for j in range(8):\n",
        "        block = matrix[i:i+3, j:j+3]  # Extract 3x3 block\n",
        "        blocks.append(block)\n",
        "\n",
        "# Converting the list of blocks to a NumPy array\n",
        "blocks_array = np.array(blocks)\n",
        "\n",
        "# Print the extracted blocks\n",
        "for i, block in enumerate(blocks_array):\n",
        "    print(\"Block\", i+1, \":\\n\", block)\n",
        "    print()\n"
      ]
    },
    {
      "cell_type": "markdown",
      "metadata": {
        "id": "mVHX9uzC1D4f"
      },
      "source": [
        "85. Create a 2D array subclass such that Z[i,j] == Z[j,i]"
      ]
    },
    {
      "cell_type": "code",
      "execution_count": 34,
      "metadata": {
        "colab": {
          "base_uri": "https://localhost:8080/"
        },
        "id": "AnxwOxAH1WmE",
        "outputId": "1babb4c6-6b86-48c7-b16a-8bf16c39fff1"
      },
      "outputs": [
        {
          "name": "stdout",
          "output_type": "stream",
          "text": [
            "Value at Z[1,2]: 6\n",
            "Value at Z[2,1]: 6\n"
          ]
        }
      ],
      "source": [
        "import numpy as np\n",
        "\n",
        "class SymmetricArray(np.ndarray):\n",
        "    def __new__(cls, input_array):\n",
        "        obj = np.asarray(input_array).view(cls)\n",
        "        return obj\n",
        "\n",
        "    def __getitem__(self, index):\n",
        "        # Return the same value for Z[i,j] and Z[j,i]\n",
        "        i, j = index\n",
        "        return super().__getitem__((min(i, j), max(i, j)))\n",
        "\n",
        "# array\n",
        "array = np.array([[1, 2, 3],\n",
        "                  [4, 5, 6],\n",
        "                  [7, 8, 9]])\n",
        "\n",
        "# an instance of the SymmetricArray subclass\n",
        "symmetric_array = SymmetricArray(array)\n",
        "\n",
        "# Test access\n",
        "print(\"Value at Z[1,2]:\", symmetric_array[1, 2])\n",
        "print(\"Value at Z[2,1]:\", symmetric_array[2, 1])\n"
      ]
    },
    {
      "cell_type": "markdown",
      "metadata": {
        "id": "x33pzOLC1guW"
      },
      "source": [
        "86.Consider a set of p matrices with shape (n,n) and a set of p vectors with shape (n,1). How to compute the sum of of the p matrix products at once? (result has shape (n,1))"
      ]
    },
    {
      "cell_type": "code",
      "execution_count": 35,
      "metadata": {
        "colab": {
          "base_uri": "https://localhost:8080/"
        },
        "id": "Mcqeal3M1mOM",
        "outputId": "546211a1-b08a-44dd-f28b-7316a284d63d"
      },
      "outputs": [
        {
          "name": "stdout",
          "output_type": "stream",
          "text": [
            "Result shape: (2, 3, 1)\n",
            "Sum of matrix products:\n",
            " [[[1.36323811]\n",
            "  [1.39585927]\n",
            "  [1.35964946]]\n",
            "\n",
            " [[0.96527021]\n",
            "  [1.13200227]\n",
            "  [0.94307097]]]\n"
          ]
        }
      ],
      "source": [
        "import numpy as np\n",
        "\n",
        "def sum_of_matrix_products(matrices, vectors):\n",
        "    # Ensure that the matrices and vectors have compatible shapes\n",
        "    assert matrices.shape[0] == vectors.shape[0], \"Number of matrices must equal number of vectors\"\n",
        "    assert matrices.shape[2] == vectors.shape[1], \"Matrices and vectors must have compatible shapes\"\n",
        "\n",
        "    # Compute the matrix products for each pair of matrices and vectors\n",
        "    matrix_products = np.dot(matrices, vectors)\n",
        "\n",
        "    # Sum the matrix products along the first axis\n",
        "    sum_matrix_products = np.sum(matrix_products, axis=0)\n",
        "\n",
        "    return sum_matrix_products\n",
        "\n",
        "# matrices and vectors\n",
        "p = 3\n",
        "n = 2\n",
        "matrices = np.random.rand(p, n, n)\n",
        "vectors = np.random.rand(p, n, 1)\n",
        "\n",
        "#  the sum of matrix products\n",
        "result = sum_of_matrix_products(matrices, vectors)\n",
        "\n",
        "print(\"Result shape:\", result.shape)\n",
        "print(\"Sum of matrix products:\\n\", result)\n"
      ]
    },
    {
      "cell_type": "markdown",
      "metadata": {
        "id": "utTV97jk13VD"
      },
      "source": [
        "87.Consider a 16x16 array, how to get the block-sum (block size is 4x4)?"
      ]
    },
    {
      "cell_type": "code",
      "execution_count": 36,
      "metadata": {
        "colab": {
          "base_uri": "https://localhost:8080/"
        },
        "id": "qBRrOnGJ184p",
        "outputId": "0a654c88-bb95-486e-9280-f122271f7498"
      },
      "outputs": [
        {
          "name": "stdout",
          "output_type": "stream",
          "text": [
            "Block-sum (4x4 blocks):\n",
            "[[ 120  376  632  888]\n",
            " [1144 1400 1656 1912]\n",
            " [2168 2424 2680 2936]\n",
            " [3192 3448 3704 3960]]\n"
          ]
        }
      ],
      "source": [
        "import numpy as np\n",
        "\n",
        "# a 16x16 array (you can use np.random.rand(16, 16) for random values)\n",
        "array = np.arange(16*16).reshape(16, 16)\n",
        "\n",
        "# Reshaped  array into shape (4, 4, 4, 4)\n",
        "reshaped_array = array.reshape(4, 4, 4, 4)\n",
        "\n",
        "# Sum along the last two axes to get the block-sum\n",
        "block_sum = reshaped_array.sum(axis=(2, 3))\n",
        "\n",
        "print(\"Block-sum (4x4 blocks):\")\n",
        "print(block_sum)\n"
      ]
    },
    {
      "cell_type": "markdown",
      "metadata": {
        "id": "VWSPFgC_2RAG"
      },
      "source": [
        "88.How to implement the Game of Life using numpy arrays?"
      ]
    },
    {
      "cell_type": "code",
      "execution_count": 37,
      "metadata": {
        "colab": {
          "base_uri": "https://localhost:8080/",
          "height": 560
        },
        "id": "pkJIx1ei2XWS",
        "outputId": "a8034f10-18d5-40f6-fdc3-2fe57ee2d4e0"
      },
      "outputs": [
        {
          "name": "stderr",
          "output_type": "stream",
          "text": [
            "<ipython-input-37-c73dfbfa1677>:45: UserWarning: You passed in an explicit save_count=50 which is being ignored in favor of frames=100.\n",
            "  ani = animation.FuncAnimation(fig, update, frames=frames, fargs=(img, grid, N),\n"
          ]
        },
        {
          "data": {
            "image/png": "[encoded data removed]",
            "text/plain": [
              "<Figure size 600x600 with 1 Axes>"
            ]
          },
          "metadata": {},
          "output_type": "display_data"
        }
      ],
      "source": [
        "import numpy as np\n",
        "import matplotlib.pyplot as plt\n",
        "import matplotlib.animation as animation\n",
        "\n",
        "def update(frameNum, img, grid, N):\n",
        "    # Copy grid to avoid changing original grid during iteration\n",
        "    newGrid = grid.copy()\n",
        "    for i in range(N):\n",
        "        for j in range(N):\n",
        "            # Compute the sum of the 8 neighboring cells\n",
        "            total = int((grid[i, (j-1)%N] + grid[i, (j+1)%N] +\n",
        "                         grid[(i-1)%N, j] + grid[(i+1)%N, j] +\n",
        "                         grid[(i-1)%N, (j-1)%N] + grid[(i-1)%N, (j+1)%N] +\n",
        "                         grid[(i+1)%N, (j-1)%N] + grid[(i+1)%N, (j+1)%N])/255)\n",
        "            # Apply rules of the Game of Life\n",
        "            if grid[i, j] == ON:\n",
        "                if (total < 2) or (total > 3):\n",
        "                    newGrid[i, j] = OFF\n",
        "            else:\n",
        "                if total == 3:\n",
        "                    newGrid[i, j] = ON\n",
        "    # Update data\n",
        "    img.set_data(newGrid)\n",
        "    grid[:] = newGrid[:]\n",
        "    return img\n",
        "\n",
        "# Set grid size\n",
        "N = 100\n",
        "# Set animation frames\n",
        "frames = 100\n",
        "# Set grid cell values\n",
        "ON = 255\n",
        "OFF = 0\n",
        "#  grid initial state (random)\n",
        "grid = np.random.choice([ON, OFF], N*N, p=[0.2, 0.8]).reshape(N, N)\n",
        "\n",
        "#  a plot and set the size\n",
        "fig, ax = plt.subplots()\n",
        "fig.set_size_inches(6, 6)\n",
        "\n",
        "#  an image plot\n",
        "img = ax.imshow(grid, interpolation='nearest')\n",
        "\n",
        "# an animation\n",
        "ani = animation.FuncAnimation(fig, update, frames=frames, fargs=(img, grid, N),\n",
        "                              interval=50, save_count=50)\n",
        "\n",
        "plt.show()\n"
      ]
    },
    {
      "cell_type": "markdown",
      "metadata": {
        "id": "G-dM8dQA2zTx"
      },
      "source": [
        "89.  How to get the n largest values of an array"
      ]
    },
    {
      "cell_type": "code",
      "execution_count": 38,
      "metadata": {
        "colab": {
          "base_uri": "https://localhost:8080/"
        },
        "id": "Am8rppqn27-q",
        "outputId": "47399254-9a71-4b05-d8cb-440ee4805b7b"
      },
      "outputs": [
        {
          "name": "stdout",
          "output_type": "stream",
          "text": [
            "n largest values: [7 8 9]\n"
          ]
        }
      ],
      "source": [
        "import numpy as np\n",
        "\n",
        "def n_largest_values(arr, n):\n",
        "    # Get indices of the n largest values\n",
        "    indices = np.argpartition(arr, -n)[-n:]\n",
        "    # Sort the indices based on their corresponding values\n",
        "    sorted_indices = indices[np.argsort(arr[indices])]\n",
        "    # Get the n largest values\n",
        "    largest_values = arr[sorted_indices]\n",
        "    return largest_values\n",
        "\n",
        "#  array\n",
        "arr = np.array([1, 5, 3, 9, 7, 4, 8, 6, 2])\n",
        "\n",
        "#  3 largest values\n",
        "n_largest = n_largest_values(arr, 3)\n",
        "\n",
        "print(\"n largest values:\", n_largest)\n"
      ]
    },
    {
      "cell_type": "markdown",
      "metadata": {
        "id": "DFBf7UEm3L4m"
      },
      "source": [
        "90.Given an arbitrary number of vectors, build the cartesian product (every combinations of every item)"
      ]
    },
    {
      "cell_type": "code",
      "execution_count": 39,
      "metadata": {
        "colab": {
          "base_uri": "https://localhost:8080/"
        },
        "id": "IDwCvRf13TKl",
        "outputId": "bd6f70c8-ed23-4417-e4ac-8f989688b5c4"
      },
      "outputs": [
        {
          "name": "stdout",
          "output_type": "stream",
          "text": [
            "Cartesian product:\n",
            "[(1, 'a', True), (1, 'a', False), (1, 'b', True), (1, 'b', False), (2, 'a', True), (2, 'a', False), (2, 'b', True), (2, 'b', False), (3, 'a', True), (3, 'a', False), (3, 'b', True), (3, 'b', False)]\n"
          ]
        }
      ],
      "source": [
        "from itertools import product\n",
        "\n",
        "def cartesian_product(*vectors):\n",
        "    return list(product(*vectors))\n",
        "\n",
        "# Example vectors\n",
        "vector1 = [1, 2, 3]\n",
        "vector2 = ['a', 'b']\n",
        "vector3 = [True, False]\n",
        "\n",
        "# Compute the Cartesian product\n",
        "result = cartesian_product(vector1, vector2, vector3)\n",
        "\n",
        "print(\"Cartesian product:\")\n",
        "print(result)\n"
      ]
    },
    {
      "cell_type": "markdown",
      "metadata": {
        "id": "UmtI1AGh3j5K"
      },
      "source": [
        "91. How to create a record array from a regular array?"
      ]
    },
    {
      "cell_type": "code",
      "execution_count": 40,
      "metadata": {
        "colab": {
          "base_uri": "https://localhost:8080/"
        },
        "id": "RVE_U3sP3q04",
        "outputId": "6f9756b1-9869-4162-c1a5-75a38fbce877"
      },
      "outputs": [
        {
          "name": "stdout",
          "output_type": "stream",
          "text": [
            "Record array:\n",
            "[('1', 'nana', '25') ('2', 'Ali', '30') ('3', 'bala', '28')]\n"
          ]
        }
      ],
      "source": [
        "import numpy as np\n",
        "\n",
        "# Regular array\n",
        "regular_array = np.array([[1, 'nana', 25],\n",
        "                          [2, 'Ali', 30],\n",
        "                          [3, 'bala', 28]])\n",
        "\n",
        "# Field names for each column\n",
        "field_names = ['ID', 'Name', 'Age']\n",
        "\n",
        "#  record array from the regular array\n",
        "record_array = np.rec.fromarrays(regular_array.transpose(), names=field_names)\n",
        "\n",
        "print(\"Record array:\")\n",
        "print(record_array)\n"
      ]
    },
    {
      "cell_type": "markdown",
      "metadata": {
        "id": "Kg-BpNx_4C02"
      },
      "source": [
        "92.Consider a large vector Z, compute Z to the power of 3 using 3 different methods"
      ]
    },
    {
      "cell_type": "code",
      "execution_count": 41,
      "metadata": {
        "colab": {
          "base_uri": "https://localhost:8080/"
        },
        "id": "RLp_fa9L4JDI",
        "outputId": "48614a8a-af14-404b-e745-40cdba1f7d82"
      },
      "outputs": [
        {
          "name": "stdout",
          "output_type": "stream",
          "text": [
            "Results are equal for all methods: True\n"
          ]
        }
      ],
      "source": [
        "import numpy as np\n",
        "\n",
        "# large vector Z\n",
        "Z = np.random.rand(1000000)  # Example: 1 million elements\n",
        "\n",
        "# Method 1: Using np.power\n",
        "Z_power_np = np.power(Z, 3)\n",
        "\n",
        "# Method 2: Using the ** operator\n",
        "Z_power_operator = Z ** 3\n",
        "\n",
        "# Method 3: Using element-wise multiplication\n",
        "Z_power_multiply = Z * Z * Z\n",
        "\n",
        "# Check if results are equal\n",
        "print(\"Results are equal for all methods:\",\n",
        "      np.allclose(Z_power_np, Z_power_operator) and np.allclose(Z_power_np, Z_power_multiply))\n"
      ]
    },
    {
      "cell_type": "markdown",
      "metadata": {
        "id": "40F9iEWp4hmR"
      },
      "source": [
        "93.. Consider two arrays A and B of shape (8,3) and (2,2). How to find rows of A that contain elements of each row of B regardless of the order of the elements in B?"
      ]
    },
    {
      "cell_type": "code",
      "execution_count": 42,
      "metadata": {
        "colab": {
          "base_uri": "https://localhost:8080/"
        },
        "id": "NlfCwcVl4n41",
        "outputId": "255e2053-31e6-4d94-e3b2-6ae9e3bb16bd"
      },
      "outputs": [
        {
          "name": "stdout",
          "output_type": "stream",
          "text": [
            "Indices of rows in A that contain elements of each row of B:\n",
            "[]\n"
          ]
        }
      ],
      "source": [
        "import numpy as np\n",
        "\n",
        "# Example arrays\n",
        "A = np.array([[1, 2, 3],\n",
        "              [4, 5, 6],\n",
        "              [7, 8, 9],\n",
        "              [1, 2, 4],\n",
        "              [4, 5, 1],\n",
        "              [7, 8, 2],\n",
        "              [9, 2, 3],\n",
        "              [1, 4, 5]])\n",
        "\n",
        "B = np.array([[1, 2],\n",
        "              [4, 5]])\n",
        "\n",
        "# Broadcast to create a 4D boolean mask\n",
        "mask = (A[..., None, None] == B)\n",
        "\n",
        "# Check if any row of B matches any row of A\n",
        "matching_rows = np.any(np.all(mask, axis=(1, 3)), axis=1)\n",
        "\n",
        "# Get the indices of matching rows\n",
        "indices = np.where(matching_rows)[0]\n",
        "\n",
        "print(\"Indices of rows in A that contain elements of each row of B:\")\n",
        "print(indices)\n"
      ]
    },
    {
      "cell_type": "markdown",
      "metadata": {
        "id": "gciNm6Vl5RsA"
      },
      "source": [
        "94. Considering a 10x3 matrix, extract rows with unequal values (e.g. [2,2,3])"
      ]
    },
    {
      "cell_type": "code",
      "execution_count": 43,
      "metadata": {
        "colab": {
          "base_uri": "https://localhost:8080/"
        },
        "id": "UxHqazal5kkX",
        "outputId": "f80d6696-fedc-4b90-8bd7-c0f766669cb8"
      },
      "outputs": [
        {
          "name": "stdout",
          "output_type": "stream",
          "text": [
            "Rows with unequal values:\n",
            "[[2 2 2]\n",
            " [1 1 1]\n",
            " [2 3 2]\n",
            " [3 3 3]\n",
            " [4 4 4]\n",
            " [8 9 9]]\n"
          ]
        }
      ],
      "source": [
        "import numpy as np\n",
        "\n",
        "# Create a 10x3 matrix (example)\n",
        "matrix = np.array([[1, 2, 3],\n",
        "                   [2, 2, 2],\n",
        "                   [4, 5, 6],\n",
        "                   [7, 8, 9],\n",
        "                   [1, 1, 1],\n",
        "                   [2, 3, 2],\n",
        "                   [3, 3, 3],\n",
        "                   [4, 4, 4],\n",
        "                   [5, 6, 7],\n",
        "                   [8, 9, 9]])\n",
        "\n",
        "# Find rows with unequal values\n",
        "unequal_rows = np.array([np.unique(row).size != row.size for row in matrix])\n",
        "\n",
        "# Extract rows with unequal values\n",
        "result = matrix[unequal_rows]\n",
        "\n",
        "print(\"Rows with unequal values:\")\n",
        "print(result)\n"
      ]
    },
    {
      "cell_type": "markdown",
      "metadata": {
        "id": "vv08OYdp5qy9"
      },
      "source": [
        "95.Convert a vector of ints into a matrix binary representation"
      ]
    },
    {
      "cell_type": "code",
      "execution_count": 44,
      "metadata": {
        "colab": {
          "base_uri": "https://localhost:8080/"
        },
        "id": "h30jaarE6Fq9",
        "outputId": "452bb2df-d760-436f-80f4-e70410840492"
      },
      "outputs": [
        {
          "name": "stdout",
          "output_type": "stream",
          "text": [
            "Matrix binary representation:\n",
            "[[1 0 1 0]\n",
            " [0 1 0 1]\n",
            " [1 1 1 0]\n",
            " [1 1 0 0]\n",
            " [0 0 0 1]]\n"
          ]
        }
      ],
      "source": [
        "import numpy as np\n",
        "\n",
        "# Example vector of integers\n",
        "vector = np.array([5, 10, 7, 3, 8])\n",
        "\n",
        "# Determine the number of bits needed to represent the maximum value in the vector\n",
        "num_bits = int(np.ceil(np.log2(np.max(vector) + 1)))\n",
        "\n",
        "# a matrix binary representation\n",
        "matrix_binary = ((vector[:, None] & (1 << np.arange(num_bits))) > 0).astype(int)\n",
        "\n",
        "print(\"Matrix binary representation:\")\n",
        "print(matrix_binary)\n"
      ]
    },
    {
      "cell_type": "markdown",
      "metadata": {
        "id": "a2326BNM6Pfu"
      },
      "source": [
        "96. Given a two dimensional array, how to extract unique rows?"
      ]
    },
    {
      "cell_type": "code",
      "execution_count": 45,
      "metadata": {
        "colab": {
          "base_uri": "https://localhost:8080/"
        },
        "id": "87ghzoJi6WMo",
        "outputId": "469497a7-8bb0-4a90-a49f-61a1b21f6947"
      },
      "outputs": [
        {
          "name": "stdout",
          "output_type": "stream",
          "text": [
            "Unique rows:\n",
            "[[1 2 3]\n",
            " [4 5 6]\n",
            " [7 8 9]]\n"
          ]
        }
      ],
      "source": [
        "import numpy as np\n",
        "\n",
        "# Example 2D array\n",
        "array_2d = np.array([[1, 2, 3],\n",
        "                     [4, 5, 6],\n",
        "                     [1, 2, 3],\n",
        "                     [7, 8, 9],\n",
        "                     [4, 5, 6]])\n",
        "\n",
        "# Extract unique rows\n",
        "unique_rows = np.unique(array_2d, axis=0)\n",
        "\n",
        "print(\"Unique rows:\")\n",
        "print(unique_rows)\n"
      ]
    },
    {
      "cell_type": "markdown",
      "metadata": {
        "id": "oWuCd6To6pgD"
      },
      "source": [
        "97.  Considering 2 vectors A & B, write the einsum equivalent of inner, outer, sum, and mul function"
      ]
    },
    {
      "cell_type": "code",
      "execution_count": 47,
      "metadata": {
        "colab": {
          "base_uri": "https://localhost:8080/"
        },
        "id": "5MLmDVea6vfF",
        "outputId": "6174adfe-7cce-4fb5-f799-c66a2fb4a214"
      },
      "outputs": [
        {
          "name": "stdout",
          "output_type": "stream",
          "text": [
            "Inner product: 32\n",
            "Outer product:\n",
            "[[ 4  5  6]\n",
            " [ 8 10 12]\n",
            " [12 15 18]]\n",
            "Sum of A: 6\n",
            "Sum of B: 15\n",
            "Element-wise multiplication:\n",
            "[ 4 10 18]\n"
          ]
        }
      ],
      "source": [
        "import numpy as np\n",
        "\n",
        "# Example vectors A and B\n",
        "A = np.array([1, 2, 3])\n",
        "B = np.array([4, 5, 6])\n",
        "\n",
        "# Inner product (dot product)\n",
        "inner_product = np.einsum('i,i->', A, B)\n",
        "print(\"Inner product:\", inner_product)\n",
        "\n",
        "# Outer product\n",
        "outer_product = np.einsum('i,j->ij', A, B)\n",
        "print(\"Outer product:\")\n",
        "print(outer_product)\n",
        "\n",
        "# Sum\n",
        "sum_result_A = np.einsum('i->', A)\n",
        "sum_result_B = np.einsum('j->', B)\n",
        "print(\"Sum of A:\", sum_result_A)\n",
        "print(\"Sum of B:\", sum_result_B)\n",
        "\n",
        "# Element-wise multiplication\n",
        "elementwise_mul = np.einsum('i,i->i', A, B)\n",
        "print(\"Element-wise multiplication:\")\n",
        "print(elementwise_mul)\n"
      ]
    },
    {
      "cell_type": "markdown",
      "metadata": {
        "id": "ewZMoPAw7l7G"
      },
      "source": [
        "98.Considering a path described by two vectors (X,Y), how to sample it using equidistant samples"
      ]
    },
    {
      "cell_type": "code",
      "execution_count": 48,
      "metadata": {
        "colab": {
          "base_uri": "https://localhost:8080/"
        },
        "id": "q73lvp1d7reA",
        "outputId": "22f04965-79cf-43e4-a0f5-4be7ed82714a"
      },
      "outputs": [
        {
          "name": "stdout",
          "output_type": "stream",
          "text": [
            "Sampled X: [0.         0.         0.18912023 0.67896505 1.30197629 2.17823734\n",
            " 3.06093106 4.04062071 5.02031035 6.        ]\n",
            "Sampled Y: [0.         0.         0.37824046 1.35793011 2.30197629 3.17823734\n",
            " 4.02031035 4.34687357 4.67343678 5.        ]\n"
          ]
        }
      ],
      "source": [
        "import numpy as np\n",
        "\n",
        "def sample_path(X, Y, num_samples):\n",
        "    # Calculate distances between consecutive points\n",
        "    dx = np.diff(X)\n",
        "    dy = np.diff(Y)\n",
        "\n",
        "    # Calculate total distance of the path\n",
        "    distances = np.sqrt(dx**2 + dy**2)\n",
        "    total_distance = np.sum(distances)\n",
        "\n",
        "    # Calculate equidistant intervals\n",
        "    intervals = np.linspace(0, total_distance, num_samples)\n",
        "\n",
        "    # Interpolate equidistant points along the path\n",
        "    sampled_X = np.interp(intervals, np.cumsum(distances), X[:-1])\n",
        "    sampled_Y = np.interp(intervals, np.cumsum(distances), Y[:-1])\n",
        "\n",
        "    return sampled_X, sampled_Y\n",
        "\n",
        "# Example path described by X and Y vectors\n",
        "X = np.array([0, 1, 3, 6, 9])\n",
        "Y = np.array([0, 2, 4, 5, 8])\n",
        "\n",
        "# Number of equidistant samples\n",
        "num_samples = 10\n",
        "\n",
        "# Sample the path\n",
        "sampled_X, sampled_Y = sample_path(X, Y, num_samples)\n",
        "\n",
        "print(\"Sampled X:\", sampled_X)\n",
        "print(\"Sampled Y:\", sampled_Y)\n"
      ]
    },
    {
      "cell_type": "markdown",
      "metadata": {
        "id": "ElrzFIhL8A4g"
      },
      "source": [
        "99.Given an integer n and a 2D array X, select from X the rows which can be interpreted as draws from a multinomial distribution with n degrees, i.e., the rows which only contain integers and which sum to n."
      ]
    },
    {
      "cell_type": "code",
      "execution_count": 49,
      "metadata": {
        "colab": {
          "base_uri": "https://localhost:8080/"
        },
        "id": "_YjFB-QR8HTJ",
        "outputId": "861d06f4-d228-46ee-9e32-59b4eace4a6b"
      },
      "outputs": [
        {
          "name": "stdout",
          "output_type": "stream",
          "text": [
            "Selected rows:\n",
            "[[1 2 3]]\n"
          ]
        }
      ],
      "source": [
        "import numpy as np\n",
        "\n",
        "def select_multinomial_rows(X, n):\n",
        "    # Check if each element in X is an integer\n",
        "    is_integer = np.all(np.mod(X, 1) == 0, axis=1)\n",
        "\n",
        "    # Check if the sum of each row equals n\n",
        "    row_sums = np.sum(X, axis=1)\n",
        "    sum_equals_n = row_sums == n\n",
        "\n",
        "    # Select rows that satisfy both conditions\n",
        "    selected_rows = X[np.logical_and(is_integer, sum_equals_n)]\n",
        "\n",
        "    return selected_rows\n",
        "\n",
        "# Example 2D array X\n",
        "X = np.array([[1, 2, 3],\n",
        "              [4, 5, 1],\n",
        "              [0, 6, 2],\n",
        "              [3, 2, 0]])\n",
        "\n",
        "# Given integer n\n",
        "n = 6\n",
        "\n",
        "# Select rows from X that satisfy the conditions\n",
        "selected_rows = select_multinomial_rows(X, n)\n",
        "\n",
        "print(\"Selected rows:\")\n",
        "print(selected_rows)\n"
      ]
    },
    {
      "cell_type": "markdown",
      "metadata": {
        "id": "suuB8pmO8WrG"
      },
      "source": [
        "100.Compute bootstrapped 95% confidence intervals for the mean of a 1D array X (i.e., resample the elements of an array with replacement N times, compute the mean of each sample, and then compute percentiles over the means)."
      ]
    },
    {
      "cell_type": "code",
      "execution_count": 50,
      "metadata": {
        "colab": {
          "base_uri": "https://localhost:8080/"
        },
        "id": "5A1Vzy-b8ocY",
        "outputId": "9f205a20-9ef7-4ddb-af8c-74fdb90fd01b"
      },
      "outputs": [
        {
          "name": "stdout",
          "output_type": "stream",
          "text": [
            "Bootstrapped 95% confidence interval for the mean of X: [3.6    7.2025]\n"
          ]
        }
      ],
      "source": [
        "import numpy as np\n",
        "\n",
        "def bootstrap_mean_confidence_interval(X, N, alpha=0.05):\n",
        "    # Number of samples\n",
        "    num_samples = len(X)\n",
        "\n",
        "    # Generate bootstrap samples\n",
        "    bootstrap_samples = np.random.choice(X, size=(N, num_samples), replace=True)\n",
        "\n",
        "    # Compute mean of each bootstrap sample\n",
        "    means = np.mean(bootstrap_samples, axis=1)\n",
        "\n",
        "    # Compute confidence intervals\n",
        "    lower_percentile = 100 * alpha / 2\n",
        "    upper_percentile = 100 * (1 - alpha / 2)\n",
        "    confidence_interval = np.percentile(means, [lower_percentile, upper_percentile])\n",
        "\n",
        "    return confidence_interval\n",
        "\n",
        "# Example 1D array X\n",
        "X = np.array([1, 2, 3, 4, 5, 6, 7, 8, 9, 10])\n",
        "\n",
        "# Number of bootstrap samples\n",
        "N = 1000\n",
        "\n",
        "# Compute bootstrapped 95% confidence intervals for the mean of X\n",
        "confidence_interval = bootstrap_mean_confidence_interval(X, N)\n",
        "\n",
        "print(\"Bootstrapped 95% confidence interval for the mean of X:\", confidence_interval)\n"
      ]
    }
  ],
  "metadata": {
    "colab": {
      "provenance": []
    },
    "kernelspec": {
      "display_name": "Python 3",
      "name": "python3"
    },
    "language_info": {
      "name": "python"
    }
  },
  "nbformat": 4,
  "nbformat_minor": 0
}
